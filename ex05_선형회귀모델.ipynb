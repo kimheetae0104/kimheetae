{
 "cells": [
  {
   "cell_type": "markdown",
   "id": "30a6f6c7",
   "metadata": {},
   "source": [
    "# 성적 데이터 생성\n"
   ]
  },
  {
   "cell_type": "code",
   "execution_count": 2,
   "id": "58144d84",
   "metadata": {},
   "outputs": [],
   "source": [
    "import pandas as pd"
   ]
  },
  {
   "cell_type": "code",
   "execution_count": 3,
   "id": "be68a6c0",
   "metadata": {},
   "outputs": [],
   "source": [
    "data =  pd.DataFrame([[2,20],[4,40],[8,80],[9,90]],\n",
    "                    index = ['해도','병관','명훈','동원'],\n",
    "                    columns = ['시간','성적'])"
   ]
  },
  {
   "cell_type": "code",
   "execution_count": 4,
   "id": "ad1ba757",
   "metadata": {},
   "outputs": [
    {
     "data": {
      "text/html": [
       "<div>\n",
       "<style scoped>\n",
       "    .dataframe tbody tr th:only-of-type {\n",
       "        vertical-align: middle;\n",
       "    }\n",
       "\n",
       "    .dataframe tbody tr th {\n",
       "        vertical-align: top;\n",
       "    }\n",
       "\n",
       "    .dataframe thead th {\n",
       "        text-align: right;\n",
       "    }\n",
       "</style>\n",
       "<table border=\"1\" class=\"dataframe\">\n",
       "  <thead>\n",
       "    <tr style=\"text-align: right;\">\n",
       "      <th></th>\n",
       "      <th>시간</th>\n",
       "      <th>성적</th>\n",
       "    </tr>\n",
       "  </thead>\n",
       "  <tbody>\n",
       "    <tr>\n",
       "      <th>해도</th>\n",
       "      <td>2</td>\n",
       "      <td>20</td>\n",
       "    </tr>\n",
       "    <tr>\n",
       "      <th>병관</th>\n",
       "      <td>4</td>\n",
       "      <td>40</td>\n",
       "    </tr>\n",
       "    <tr>\n",
       "      <th>명훈</th>\n",
       "      <td>8</td>\n",
       "      <td>80</td>\n",
       "    </tr>\n",
       "    <tr>\n",
       "      <th>동원</th>\n",
       "      <td>9</td>\n",
       "      <td>90</td>\n",
       "    </tr>\n",
       "  </tbody>\n",
       "</table>\n",
       "</div>"
      ],
      "text/plain": [
       "    시간  성적\n",
       "해도   2  20\n",
       "병관   4  40\n",
       "명훈   8  80\n",
       "동원   9  90"
      ]
     },
     "execution_count": 4,
     "metadata": {},
     "output_type": "execute_result"
    }
   ],
   "source": [
    "data \n",
    "# 데이터 프레임 자체가 2차원이고 시리즈 형태로 나타내면 1차원이다 \n",
    "# 괄호 두개를 사용하면 2차원으로 표현 "
   ]
  },
  {
   "cell_type": "markdown",
   "id": "5885aa17",
   "metadata": {},
   "source": [
    "# 수학 공식을 이용한 해석적 방법\n",
    "- linearRegression"
   ]
  },
  {
   "cell_type": "code",
   "execution_count": 5,
   "id": "df08ab60",
   "metadata": {},
   "outputs": [],
   "source": [
    "from sklearn.linear_model import LinearRegression"
   ]
  },
  {
   "cell_type": "code",
   "execution_count": 6,
   "id": "ead5db71",
   "metadata": {},
   "outputs": [],
   "source": [
    "linear_model = LinearRegression()"
   ]
  },
  {
   "cell_type": "code",
   "execution_count": 7,
   "id": "567d0aee",
   "metadata": {},
   "outputs": [
    {
     "data": {
      "text/plain": [
       "LinearRegression()"
      ]
     },
     "execution_count": 7,
     "metadata": {},
     "output_type": "execute_result"
    }
   ],
   "source": [
    "# 문제는 = 2차원 -> 괄호 두번 정답 = 1차원 -> 괄호 한번 \n",
    "linear_model.fit(data[['시간']], data['성적'])"
   ]
  },
  {
   "cell_type": "code",
   "execution_count": 8,
   "id": "7944ee13",
   "metadata": {},
   "outputs": [
    {
     "name": "stdout",
     "output_type": "stream",
     "text": [
      "[10.]\n",
      "7.105427357601002e-15\n"
     ]
    }
   ],
   "source": [
    "# y = 10x + 7.10000e-15\n",
    "# y = 성적\n",
    "# x = 시간\n",
    "print(linear_model.coef_) # 가중치\n",
    "print(linear_model.intercept_) #절편"
   ]
  },
  {
   "cell_type": "code",
   "execution_count": 9,
   "id": "73687ecd",
   "metadata": {},
   "outputs": [
    {
     "data": {
      "text/plain": [
       "array([70.])"
      ]
     },
     "execution_count": 9,
     "metadata": {},
     "output_type": "execute_result"
    }
   ],
   "source": [
    "linear_model.predict([[7]])"
   ]
  },
  {
   "cell_type": "markdown",
   "id": "8ca5c116",
   "metadata": {},
   "source": [
    "# 경사하강법\n",
    "- SGDRegressor"
   ]
  },
  {
   "cell_type": "code",
   "execution_count": 12,
   "id": "0f0fde94",
   "metadata": {},
   "outputs": [],
   "source": [
    "from sklearn.linear_model import SGDRegressor"
   ]
  },
  {
   "cell_type": "code",
   "execution_count": 13,
   "id": "1d08aecd",
   "metadata": {},
   "outputs": [],
   "source": [
    "sgd_model = SGDRegressor(max_iter = 5000, # 가중치 업데이트 반복 횟수\n",
    "                        eta0 = 0.01, # 학습률 (learning rate)\n",
    "                        verbose = 1) # 학습과정 확인"
   ]
  },
  {
   "cell_type": "code",
   "execution_count": 14,
   "id": "a624bf8b",
   "metadata": {},
   "outputs": [
    {
     "name": "stdout",
     "output_type": "stream",
     "text": [
      "-- Epoch 1\n",
      "Norm: 8.52, NNZs: 1, Bias: 1.143302, T: 4, Avg. loss: 1052.632935\n",
      "Total training time: 0.00 seconds.\n",
      "-- Epoch 2\n",
      "Norm: 9.48, NNZs: 1, Bias: 1.283107, T: 8, Avg. loss: 19.916155\n",
      "Total training time: 0.00 seconds.\n",
      "-- Epoch 3\n",
      "Norm: 9.71, NNZs: 1, Bias: 1.308025, T: 12, Avg. loss: 1.735518\n",
      "Total training time: 0.00 seconds.\n",
      "-- Epoch 4\n",
      "Norm: 9.79, NNZs: 1, Bias: 1.313831, T: 16, Avg. loss: 0.331947\n",
      "Total training time: 0.00 seconds.\n",
      "-- Epoch 5\n",
      "Norm: 9.81, NNZs: 1, Bias: 1.310838, T: 20, Avg. loss: 0.202269\n",
      "Total training time: 0.00 seconds.\n",
      "-- Epoch 6\n",
      "Norm: 9.82, NNZs: 1, Bias: 1.308067, T: 24, Avg. loss: 0.183658\n",
      "Total training time: 0.00 seconds.\n",
      "-- Epoch 7\n",
      "Norm: 9.82, NNZs: 1, Bias: 1.303028, T: 28, Avg. loss: 0.180860\n",
      "Total training time: 0.00 seconds.\n",
      "-- Epoch 8\n",
      "Norm: 9.83, NNZs: 1, Bias: 1.299495, T: 32, Avg. loss: 0.177839\n",
      "Total training time: 0.00 seconds.\n",
      "-- Epoch 9\n",
      "Norm: 9.82, NNZs: 1, Bias: 1.294543, T: 36, Avg. loss: 0.177411\n",
      "Total training time: 0.00 seconds.\n",
      "-- Epoch 10\n",
      "Norm: 9.83, NNZs: 1, Bias: 1.291059, T: 40, Avg. loss: 0.174943\n",
      "Total training time: 0.00 seconds.\n",
      "-- Epoch 11\n",
      "Norm: 9.82, NNZs: 1, Bias: 1.286381, T: 44, Avg. loss: 0.174617\n",
      "Total training time: 0.00 seconds.\n",
      "-- Epoch 12\n",
      "Norm: 9.83, NNZs: 1, Bias: 1.283033, T: 48, Avg. loss: 0.172384\n",
      "Total training time: 0.00 seconds.\n",
      "-- Epoch 13\n",
      "Norm: 9.83, NNZs: 1, Bias: 1.278604, T: 52, Avg. loss: 0.172078\n",
      "Total training time: 0.00 seconds.\n",
      "-- Epoch 14\n",
      "Norm: 9.83, NNZs: 1, Bias: 1.275384, T: 56, Avg. loss: 0.170027\n",
      "Total training time: 0.00 seconds.\n",
      "-- Epoch 15\n",
      "Norm: 9.83, NNZs: 1, Bias: 1.271166, T: 60, Avg. loss: 0.169729\n",
      "Total training time: 0.00 seconds.\n",
      "-- Epoch 16\n",
      "Norm: 9.83, NNZs: 1, Bias: 1.268057, T: 64, Avg. loss: 0.167825\n",
      "Total training time: 0.00 seconds.\n",
      "-- Epoch 17\n",
      "Norm: 9.83, NNZs: 1, Bias: 1.264017, T: 68, Avg. loss: 0.167532\n",
      "Total training time: 0.00 seconds.\n",
      "-- Epoch 18\n",
      "Norm: 9.83, NNZs: 1, Bias: 1.261005, T: 72, Avg. loss: 0.165748\n",
      "Total training time: 0.00 seconds.\n",
      "-- Epoch 19\n",
      "Norm: 9.83, NNZs: 1, Bias: 1.257118, T: 76, Avg. loss: 0.165459\n",
      "Total training time: 0.00 seconds.\n",
      "-- Epoch 20\n",
      "Norm: 9.83, NNZs: 1, Bias: 1.254192, T: 80, Avg. loss: 0.163776\n",
      "Total training time: 0.00 seconds.\n",
      "-- Epoch 21\n",
      "Norm: 9.83, NNZs: 1, Bias: 1.250439, T: 84, Avg. loss: 0.163490\n",
      "Total training time: 0.00 seconds.\n",
      "-- Epoch 22\n",
      "Norm: 9.83, NNZs: 1, Bias: 1.247590, T: 88, Avg. loss: 0.161894\n",
      "Total training time: 0.00 seconds.\n",
      "-- Epoch 23\n",
      "Norm: 9.83, NNZs: 1, Bias: 1.243954, T: 92, Avg. loss: 0.161610\n",
      "Total training time: 0.00 seconds.\n",
      "-- Epoch 24\n",
      "Norm: 9.83, NNZs: 1, Bias: 1.241175, T: 96, Avg. loss: 0.160089\n",
      "Total training time: 0.00 seconds.\n",
      "-- Epoch 25\n",
      "Norm: 9.83, NNZs: 1, Bias: 1.237645, T: 100, Avg. loss: 0.159807\n",
      "Total training time: 0.00 seconds.\n",
      "-- Epoch 26\n",
      "Norm: 9.83, NNZs: 1, Bias: 1.234929, T: 104, Avg. loss: 0.158353\n",
      "Total training time: 0.00 seconds.\n",
      "-- Epoch 27\n",
      "Norm: 9.83, NNZs: 1, Bias: 1.231494, T: 108, Avg. loss: 0.158073\n",
      "Total training time: 0.00 seconds.\n",
      "-- Epoch 28\n",
      "Norm: 9.83, NNZs: 1, Bias: 1.228836, T: 112, Avg. loss: 0.156678\n",
      "Total training time: 0.00 seconds.\n",
      "-- Epoch 29\n",
      "Norm: 9.83, NNZs: 1, Bias: 1.225488, T: 116, Avg. loss: 0.156401\n",
      "Total training time: 0.00 seconds.\n",
      "-- Epoch 30\n",
      "Norm: 9.84, NNZs: 1, Bias: 1.222884, T: 120, Avg. loss: 0.155058\n",
      "Total training time: 0.00 seconds.\n",
      "-- Epoch 31\n",
      "Norm: 9.83, NNZs: 1, Bias: 1.219616, T: 124, Avg. loss: 0.154783\n",
      "Total training time: 0.00 seconds.\n",
      "-- Epoch 32\n",
      "Norm: 9.84, NNZs: 1, Bias: 1.217061, T: 128, Avg. loss: 0.153489\n",
      "Total training time: 0.00 seconds.\n",
      "-- Epoch 33\n",
      "Norm: 9.83, NNZs: 1, Bias: 1.213867, T: 132, Avg. loss: 0.153216\n",
      "Total training time: 0.00 seconds.\n",
      "-- Epoch 34\n",
      "Norm: 9.84, NNZs: 1, Bias: 1.211358, T: 136, Avg. loss: 0.151965\n",
      "Total training time: 0.00 seconds.\n",
      "-- Epoch 35\n",
      "Norm: 9.83, NNZs: 1, Bias: 1.208232, T: 140, Avg. loss: 0.151694\n",
      "Total training time: 0.00 seconds.\n",
      "-- Epoch 36\n",
      "Norm: 9.84, NNZs: 1, Bias: 1.205767, T: 144, Avg. loss: 0.150484\n",
      "Total training time: 0.00 seconds.\n",
      "-- Epoch 37\n",
      "Norm: 9.84, NNZs: 1, Bias: 1.202705, T: 148, Avg. loss: 0.150215\n",
      "Total training time: 0.00 seconds.\n",
      "-- Epoch 38\n",
      "Norm: 9.84, NNZs: 1, Bias: 1.200281, T: 152, Avg. loss: 0.149042\n",
      "Total training time: 0.00 seconds.\n",
      "-- Epoch 39\n",
      "Norm: 9.84, NNZs: 1, Bias: 1.197278, T: 156, Avg. loss: 0.148775\n",
      "Total training time: 0.00 seconds.\n",
      "-- Epoch 40\n",
      "Norm: 9.84, NNZs: 1, Bias: 1.194893, T: 160, Avg. loss: 0.147636\n",
      "Total training time: 0.00 seconds.\n",
      "-- Epoch 41\n",
      "Norm: 9.84, NNZs: 1, Bias: 1.191945, T: 164, Avg. loss: 0.147372\n",
      "Total training time: 0.00 seconds.\n",
      "-- Epoch 42\n",
      "Norm: 9.84, NNZs: 1, Bias: 1.189597, T: 168, Avg. loss: 0.146265\n",
      "Total training time: 0.00 seconds.\n",
      "-- Epoch 43\n",
      "Norm: 9.84, NNZs: 1, Bias: 1.186702, T: 172, Avg. loss: 0.146002\n",
      "Total training time: 0.00 seconds.\n",
      "-- Epoch 44\n",
      "Norm: 9.84, NNZs: 1, Bias: 1.184388, T: 176, Avg. loss: 0.144926\n",
      "Total training time: 0.00 seconds.\n",
      "-- Epoch 45\n",
      "Norm: 9.84, NNZs: 1, Bias: 1.181543, T: 180, Avg. loss: 0.144665\n",
      "Total training time: 0.00 seconds.\n",
      "-- Epoch 46\n",
      "Norm: 9.84, NNZs: 1, Bias: 1.179262, T: 184, Avg. loss: 0.143616\n",
      "Total training time: 0.00 seconds.\n",
      "-- Epoch 47\n",
      "Norm: 9.84, NNZs: 1, Bias: 1.176464, T: 188, Avg. loss: 0.143358\n",
      "Total training time: 0.00 seconds.\n",
      "-- Epoch 48\n",
      "Norm: 9.84, NNZs: 1, Bias: 1.174215, T: 192, Avg. loss: 0.142335\n",
      "Total training time: 0.00 seconds.\n",
      "-- Epoch 49\n",
      "Norm: 9.84, NNZs: 1, Bias: 1.171461, T: 196, Avg. loss: 0.142079\n",
      "Total training time: 0.00 seconds.\n",
      "-- Epoch 50\n",
      "Norm: 9.84, NNZs: 1, Bias: 1.169242, T: 200, Avg. loss: 0.141081\n",
      "Total training time: 0.00 seconds.\n",
      "-- Epoch 51\n",
      "Norm: 9.84, NNZs: 1, Bias: 1.166531, T: 204, Avg. loss: 0.140827\n",
      "Total training time: 0.00 seconds.\n",
      "-- Epoch 52\n",
      "Norm: 9.84, NNZs: 1, Bias: 1.164341, T: 208, Avg. loss: 0.139853\n",
      "Total training time: 0.00 seconds.\n",
      "-- Epoch 53\n",
      "Norm: 9.84, NNZs: 1, Bias: 1.161671, T: 212, Avg. loss: 0.139601\n",
      "Total training time: 0.00 seconds.\n",
      "Convergence after 53 epochs took 0.00 seconds\n"
     ]
    },
    {
     "data": {
      "text/plain": [
       "SGDRegressor(max_iter=5000, verbose=1)"
      ]
     },
     "execution_count": 14,
     "metadata": {},
     "output_type": "execute_result"
    }
   ],
   "source": [
    "sgd_model.fit(data[['시간']], data ['성적'])"
   ]
  },
  {
   "cell_type": "code",
   "execution_count": 15,
   "id": "72a94f41",
   "metadata": {},
   "outputs": [
    {
     "name": "stdout",
     "output_type": "stream",
     "text": [
      "[9.84056275]\n",
      "[1.16167067]\n"
     ]
    }
   ],
   "source": [
    "print(sgd_model.coef_)\n",
    "print(sgd_model.intercept_)"
   ]
  },
  {
   "cell_type": "code",
   "execution_count": 16,
   "id": "07cf31e7",
   "metadata": {},
   "outputs": [
    {
     "data": {
      "text/plain": [
       "array([70.04560993])"
      ]
     },
     "execution_count": 16,
     "metadata": {},
     "output_type": "execute_result"
    }
   ],
   "source": [
    "sgd_model.predict([[7]])"
   ]
  },
  {
   "cell_type": "code",
   "execution_count": 17,
   "id": "8e3b9db3",
   "metadata": {},
   "outputs": [
    {
     "data": {
      "text/plain": [
       "0.9996725406151098"
      ]
     },
     "execution_count": 17,
     "metadata": {},
     "output_type": "execute_result"
    }
   ],
   "source": [
    "# 분류 score : 정확도\n",
    "# 회귀 score : R2 Score\n",
    "sgd_model.score(data[['시간']], data['성적'])"
   ]
  },
  {
   "cell_type": "code",
   "execution_count": null,
   "id": "6693d150",
   "metadata": {},
   "outputs": [],
   "source": []
  }
 ],
 "metadata": {
  "kernelspec": {
   "display_name": "Python 3 (ipykernel)",
   "language": "python",
   "name": "python3"
  },
  "language_info": {
   "codemirror_mode": {
    "name": "ipython",
    "version": 3
   },
   "file_extension": ".py",
   "mimetype": "text/x-python",
   "name": "python",
   "nbconvert_exporter": "python",
   "pygments_lexer": "ipython3",
   "version": "3.9.7"
  },
  "toc": {
   "base_numbering": 1,
   "nav_menu": {},
   "number_sections": true,
   "sideBar": true,
   "skip_h1_title": false,
   "title_cell": "Table of Contents",
   "title_sidebar": "Contents",
   "toc_cell": false,
   "toc_position": {},
   "toc_section_display": true,
   "toc_window_display": false
  }
 },
 "nbformat": 4,
 "nbformat_minor": 5
}
