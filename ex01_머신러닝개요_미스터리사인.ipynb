{
 "cells": [
  {
   "cell_type": "markdown",
   "id": "204769f8",
   "metadata": {},
   "source": [
    "# 미스터리사인\n",
    "## 두번째\n",
    "### 세번째"
   ]
  },
  {
   "cell_type": "markdown",
   "id": "969e3cba",
   "metadata": {},
   "source": [
    "## 미스터리사인\n",
    "* 주어진 수를 보고 규칙을 찾는 문제\n",
    "* bb 두번 누르면 지워짐 "
   ]
  },
  {
   "cell_type": "markdown",
   "id": "096f7bb3",
   "metadata": {},
   "source": [
    "## Question 1 \n",
    "*  큰 수 + 두 수의 차\n",
    "* 22 ? 7 = 37\n",
    "### 데이터 만들기 "
   ]
  },
  {
   "cell_type": "code",
   "execution_count": 41,
   "id": "7d3fc627",
   "metadata": {},
   "outputs": [],
   "source": [
    "list1 = []\n",
    "for i in range(1, 200): # 첫번째 숫자의 범위\n",
    "    for j in range(1, 200): # 두번째 숫자의 범위\n",
    "        result = (i + (i - j)) if i > j else (j + (j - i))\n",
    "        list1.append([i , j , result])"
   ]
  },
  {
   "cell_type": "markdown",
   "id": "1334f380",
   "metadata": {},
   "source": [
    "### 데이터전처리"
   ]
  },
  {
   "cell_type": "code",
   "execution_count": 42,
   "id": "4f6fc7ff",
   "metadata": {},
   "outputs": [
    {
     "data": {
      "text/html": [
       "<div>\n",
       "<style scoped>\n",
       "    .dataframe tbody tr th:only-of-type {\n",
       "        vertical-align: middle;\n",
       "    }\n",
       "\n",
       "    .dataframe tbody tr th {\n",
       "        vertical-align: top;\n",
       "    }\n",
       "\n",
       "    .dataframe thead th {\n",
       "        text-align: right;\n",
       "    }\n",
       "</style>\n",
       "<table border=\"1\" class=\"dataframe\">\n",
       "  <thead>\n",
       "    <tr style=\"text-align: right;\">\n",
       "      <th></th>\n",
       "      <th>N1</th>\n",
       "      <th>N2</th>\n",
       "      <th>Result</th>\n",
       "    </tr>\n",
       "  </thead>\n",
       "  <tbody>\n",
       "    <tr>\n",
       "      <th>0</th>\n",
       "      <td>1</td>\n",
       "      <td>1</td>\n",
       "      <td>1</td>\n",
       "    </tr>\n",
       "    <tr>\n",
       "      <th>1</th>\n",
       "      <td>1</td>\n",
       "      <td>2</td>\n",
       "      <td>3</td>\n",
       "    </tr>\n",
       "    <tr>\n",
       "      <th>2</th>\n",
       "      <td>1</td>\n",
       "      <td>3</td>\n",
       "      <td>5</td>\n",
       "    </tr>\n",
       "    <tr>\n",
       "      <th>3</th>\n",
       "      <td>1</td>\n",
       "      <td>4</td>\n",
       "      <td>7</td>\n",
       "    </tr>\n",
       "    <tr>\n",
       "      <th>4</th>\n",
       "      <td>1</td>\n",
       "      <td>5</td>\n",
       "      <td>9</td>\n",
       "    </tr>\n",
       "  </tbody>\n",
       "</table>\n",
       "</div>"
      ],
      "text/plain": [
       "   N1  N2  Result\n",
       "0   1   1       1\n",
       "1   1   2       3\n",
       "2   1   3       5\n",
       "3   1   4       7\n",
       "4   1   5       9"
      ]
     },
     "execution_count": 42,
     "metadata": {},
     "output_type": "execute_result"
    }
   ],
   "source": [
    "import pandas as pd\n",
    "data1 = pd.DataFrame(list1, columns = ['N1', 'N2', 'Result'])\n",
    "data1.head()"
   ]
  },
  {
   "cell_type": "code",
   "execution_count": null,
   "id": "90d69b01",
   "metadata": {},
   "outputs": [],
   "source": []
  },
  {
   "cell_type": "markdown",
   "id": "4b69b679",
   "metadata": {},
   "source": [
    "###  문제와 정답 분리\n",
    "- x : 문제\n",
    "- y : 정답"
   ]
  },
  {
   "cell_type": "code",
   "execution_count": 43,
   "id": "2c8d230e",
   "metadata": {},
   "outputs": [],
   "source": [
    "X = data1.loc[ : , ['N1' , 'N2']]\n",
    "Y = data1.loc[ : , 'Result'] "
   ]
  },
  {
   "cell_type": "markdown",
   "id": "ea61f109",
   "metadata": {},
   "source": [
    "###  머신러닝 모델 불러오기"
   ]
  },
  {
   "cell_type": "code",
   "execution_count": 44,
   "id": "828f4734",
   "metadata": {},
   "outputs": [],
   "source": [
    "from sklearn.ensemble import RandomForestRegressor"
   ]
  },
  {
   "cell_type": "code",
   "execution_count": 45,
   "id": "c4071952",
   "metadata": {},
   "outputs": [],
   "source": [
    "rf = RandomForestRegressor()"
   ]
  },
  {
   "cell_type": "markdown",
   "id": "2fff2a19",
   "metadata": {},
   "source": [
    "###  모델 사용하기(학습)"
   ]
  },
  {
   "cell_type": "code",
   "execution_count": 48,
   "id": "f0b45a4b",
   "metadata": {},
   "outputs": [
    {
     "data": {
      "text/plain": [
       "RandomForestRegressor()"
      ]
     },
     "execution_count": 48,
     "metadata": {},
     "output_type": "execute_result"
    }
   ],
   "source": [
    "rf.fit( X , Y)"
   ]
  },
  {
   "cell_type": "markdown",
   "id": "5ecfa243",
   "metadata": {},
   "source": [
    "### 모델 사용하기 (예측)"
   ]
  },
  {
   "cell_type": "code",
   "execution_count": 56,
   "id": "a9e40f3e",
   "metadata": {},
   "outputs": [
    {
     "data": {
      "text/plain": [
       "array([37.04])"
      ]
     },
     "execution_count": 56,
     "metadata": {},
     "output_type": "execute_result"
    }
   ],
   "source": [
    "rf.predict([ [22,7]])"
   ]
  },
  {
   "cell_type": "markdown",
   "id": "3ac387eb",
   "metadata": {},
   "source": [
    "###  Question2\n",
    "- (큰수 / 작은수)의 나머지\n",
    "- 4 ? 19 = 3"
   ]
  },
  {
   "cell_type": "markdown",
   "id": "984fe46d",
   "metadata": {},
   "source": [
    "## Question2"
   ]
  },
  {
   "cell_type": "markdown",
   "id": "d6c3c8ca",
   "metadata": {},
   "source": [
    "### 데이터 만들기 "
   ]
  },
  {
   "cell_type": "code",
   "execution_count": 57,
   "id": "2a84eec7",
   "metadata": {},
   "outputs": [],
   "source": [
    "list2 = []\n",
    "for i in range (1,400):\n",
    "    for j in range(1, 400):\n",
    "        result = (i % j) if i > j else(j % i)\n",
    "        list2.append([i, j, result])"
   ]
  },
  {
   "cell_type": "code",
   "execution_count": 60,
   "id": "ed750d83",
   "metadata": {},
   "outputs": [
    {
     "data": {
      "text/html": [
       "<div>\n",
       "<style scoped>\n",
       "    .dataframe tbody tr th:only-of-type {\n",
       "        vertical-align: middle;\n",
       "    }\n",
       "\n",
       "    .dataframe tbody tr th {\n",
       "        vertical-align: top;\n",
       "    }\n",
       "\n",
       "    .dataframe thead th {\n",
       "        text-align: right;\n",
       "    }\n",
       "</style>\n",
       "<table border=\"1\" class=\"dataframe\">\n",
       "  <thead>\n",
       "    <tr style=\"text-align: right;\">\n",
       "      <th></th>\n",
       "      <th>N1</th>\n",
       "      <th>N2</th>\n",
       "      <th>Result</th>\n",
       "    </tr>\n",
       "  </thead>\n",
       "  <tbody>\n",
       "    <tr>\n",
       "      <th>0</th>\n",
       "      <td>1</td>\n",
       "      <td>1</td>\n",
       "      <td>0</td>\n",
       "    </tr>\n",
       "    <tr>\n",
       "      <th>1</th>\n",
       "      <td>1</td>\n",
       "      <td>2</td>\n",
       "      <td>0</td>\n",
       "    </tr>\n",
       "    <tr>\n",
       "      <th>2</th>\n",
       "      <td>1</td>\n",
       "      <td>3</td>\n",
       "      <td>0</td>\n",
       "    </tr>\n",
       "    <tr>\n",
       "      <th>3</th>\n",
       "      <td>1</td>\n",
       "      <td>4</td>\n",
       "      <td>0</td>\n",
       "    </tr>\n",
       "    <tr>\n",
       "      <th>4</th>\n",
       "      <td>1</td>\n",
       "      <td>5</td>\n",
       "      <td>0</td>\n",
       "    </tr>\n",
       "  </tbody>\n",
       "</table>\n",
       "</div>"
      ],
      "text/plain": [
       "   N1  N2  Result\n",
       "0   1   1       0\n",
       "1   1   2       0\n",
       "2   1   3       0\n",
       "3   1   4       0\n",
       "4   1   5       0"
      ]
     },
     "execution_count": 60,
     "metadata": {},
     "output_type": "execute_result"
    }
   ],
   "source": [
    "import pandas as pd\n",
    "data2 = pd.DataFrame(list2, columns = ['N1', 'N2', 'Result'])\n",
    "data2.head()"
   ]
  },
  {
   "cell_type": "code",
   "execution_count": 62,
   "id": "0d6b2a3f",
   "metadata": {},
   "outputs": [],
   "source": [
    "X = data2.loc[ : , ['N1' , 'N2']]\n",
    "Y = data2.loc[ : , 'Result'] "
   ]
  },
  {
   "cell_type": "code",
   "execution_count": 63,
   "id": "1b8ffc81",
   "metadata": {},
   "outputs": [],
   "source": [
    "rf = RandomForestRegressor()"
   ]
  },
  {
   "cell_type": "code",
   "execution_count": 64,
   "id": "75002f1b",
   "metadata": {},
   "outputs": [
    {
     "data": {
      "text/plain": [
       "RandomForestRegressor()"
      ]
     },
     "execution_count": 64,
     "metadata": {},
     "output_type": "execute_result"
    }
   ],
   "source": [
    "rf.fit( X , Y)"
   ]
  },
  {
   "cell_type": "code",
   "execution_count": 69,
   "id": "b7a5fc5f",
   "metadata": {},
   "outputs": [
    {
     "data": {
      "text/plain": [
       "array([58.78])"
      ]
     },
     "execution_count": 69,
     "metadata": {},
     "output_type": "execute_result"
    }
   ],
   "source": [
    "rf.predict([[340,400]])"
   ]
  },
  {
   "cell_type": "code",
   "execution_count": null,
   "id": "8b437548",
   "metadata": {},
   "outputs": [],
   "source": []
  }
 ],
 "metadata": {
  "kernelspec": {
   "display_name": "Python 3 (ipykernel)",
   "language": "python",
   "name": "python3"
  },
  "language_info": {
   "codemirror_mode": {
    "name": "ipython",
    "version": 3
   },
   "file_extension": ".py",
   "mimetype": "text/x-python",
   "name": "python",
   "nbconvert_exporter": "python",
   "pygments_lexer": "ipython3",
   "version": "3.9.7"
  },
  "toc": {
   "base_numbering": 1,
   "nav_menu": {},
   "number_sections": true,
   "sideBar": true,
   "skip_h1_title": false,
   "title_cell": "Table of Contents",
   "title_sidebar": "Contents",
   "toc_cell": false,
   "toc_position": {
    "height": "calc(100% - 180px)",
    "left": "10px",
    "top": "150px",
    "width": "384px"
   },
   "toc_section_display": true,
   "toc_window_display": true
  }
 },
 "nbformat": 4,
 "nbformat_minor": 5
}
