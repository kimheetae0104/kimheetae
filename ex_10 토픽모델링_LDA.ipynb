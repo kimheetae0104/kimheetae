{
 "cells": [
  {
   "cell_type": "markdown",
   "id": "60cc5a32",
   "metadata": {},
   "source": [
    "# 토픽모델링\n",
    "- 비지도학습\n",
    "- 하나 또는 여러가지 문서를 토픽으로 할당하는 작업\n",
    "- LDA(Latent Dirichlet Allocation, 잠재 디리클레 할당)"
   ]
  },
  {
   "cell_type": "markdown",
   "id": "61798ada",
   "metadata": {},
   "source": [
    "# LDA\n",
    "- 자주 나타나는 단어의 그룹(토픽)을 찾는 것\n",
    "- 주제와는 거리가 멀 수도 있음\n",
    "- 의미가 있는 성분을 찾는 것이기 때문"
   ]
  },
  {
   "cell_type": "code",
   "execution_count": 1,
   "id": "8c040d4e",
   "metadata": {},
   "outputs": [
    {
     "name": "stdout",
     "output_type": "stream",
     "text": [
      "Requirement already satisfied: pandas in c:\\users\\smhrd\\anaconda3\\envs\\test\\lib\\site-packages (1.4.1)\n",
      "Requirement already satisfied: numpy in c:\\users\\smhrd\\anaconda3\\envs\\test\\lib\\site-packages (1.22.3)\n",
      "Requirement already satisfied: sklearn in c:\\users\\smhrd\\anaconda3\\envs\\test\\lib\\site-packages (0.0)\n",
      "Collecting mglearn\n",
      "  Using cached mglearn-0.1.9.tar.gz (540 kB)\n",
      "  Preparing metadata (setup.py): started\n",
      "  Preparing metadata (setup.py): finished with status 'done'\n",
      "Requirement already satisfied: pytz>=2020.1 in c:\\users\\smhrd\\anaconda3\\envs\\test\\lib\\site-packages (from pandas) (2022.1)\n",
      "Requirement already satisfied: python-dateutil>=2.8.1 in c:\\users\\smhrd\\anaconda3\\envs\\test\\lib\\site-packages (from pandas) (2.8.2)\n",
      "Requirement already satisfied: scikit-learn in c:\\users\\smhrd\\anaconda3\\envs\\test\\lib\\site-packages (from sklearn) (1.0.2)\n",
      "Requirement already satisfied: matplotlib in c:\\users\\smhrd\\anaconda3\\envs\\test\\lib\\site-packages (from mglearn) (3.5.1)\n",
      "Requirement already satisfied: pillow in c:\\users\\smhrd\\anaconda3\\envs\\test\\lib\\site-packages (from mglearn) (9.0.1)\n",
      "Requirement already satisfied: cycler in c:\\users\\smhrd\\anaconda3\\envs\\test\\lib\\site-packages (from mglearn) (0.11.0)\n",
      "Collecting imageio\n",
      "  Downloading imageio-2.16.1-py3-none-any.whl (3.3 MB)\n",
      "     ---------------------------------------- 3.3/3.3 MB 16.4 MB/s eta 0:00:00\n",
      "Requirement already satisfied: joblib in c:\\users\\smhrd\\anaconda3\\envs\\test\\lib\\site-packages (from mglearn) (1.1.0)\n",
      "Requirement already satisfied: six>=1.5 in c:\\users\\smhrd\\anaconda3\\envs\\test\\lib\\site-packages (from python-dateutil>=2.8.1->pandas) (1.16.0)\n",
      "Requirement already satisfied: packaging>=20.0 in c:\\users\\smhrd\\anaconda3\\envs\\test\\lib\\site-packages (from matplotlib->mglearn) (21.3)\n",
      "Requirement already satisfied: pyparsing>=2.2.1 in c:\\users\\smhrd\\anaconda3\\envs\\test\\lib\\site-packages (from matplotlib->mglearn) (3.0.4)\n",
      "Requirement already satisfied: fonttools>=4.22.0 in c:\\users\\smhrd\\anaconda3\\envs\\test\\lib\\site-packages (from matplotlib->mglearn) (4.31.2)\n",
      "Requirement already satisfied: kiwisolver>=1.0.1 in c:\\users\\smhrd\\anaconda3\\envs\\test\\lib\\site-packages (from matplotlib->mglearn) (1.4.1)\n",
      "Requirement already satisfied: scipy>=1.1.0 in c:\\users\\smhrd\\anaconda3\\envs\\test\\lib\\site-packages (from scikit-learn->sklearn) (1.8.0)\n",
      "Requirement already satisfied: threadpoolctl>=2.0.0 in c:\\users\\smhrd\\anaconda3\\envs\\test\\lib\\site-packages (from scikit-learn->sklearn) (3.1.0)\n",
      "Building wheels for collected packages: mglearn\n",
      "  Building wheel for mglearn (setup.py): started\n",
      "  Building wheel for mglearn (setup.py): finished with status 'done'\n",
      "  Created wheel for mglearn: filename=mglearn-0.1.9-py2.py3-none-any.whl size=582639 sha256=082f382f4c79a873d528351bdacd7e8cf6becb108f979278fa95c7bc348901d9\n",
      "  Stored in directory: c:\\users\\smhrd\\appdata\\local\\pip\\cache\\wheels\\87\\75\\37\\404e66d0c4bad150f101c9a0914b11a8eccc2681559936e7f7\n",
      "Successfully built mglearn\n",
      "Installing collected packages: imageio, mglearn\n",
      "Successfully installed imageio-2.16.1 mglearn-0.1.9\n"
     ]
    }
   ],
   "source": [
    "!pip install pandas numpy sklearn mglearn"
   ]
  },
  {
   "cell_type": "markdown",
   "id": "ded86971",
   "metadata": {},
   "source": [
    "## 데이터 받아오기\n"
   ]
  },
  {
   "cell_type": "code",
   "execution_count": 2,
   "id": "8b3b0dbc",
   "metadata": {},
   "outputs": [],
   "source": [
    "import pandas as pd"
   ]
  },
  {
   "cell_type": "code",
   "execution_count": 3,
   "id": "96dc2a0b",
   "metadata": {},
   "outputs": [],
   "source": [
    "df_train = pd.read_csv('data/ratings_train.txt', delimiter = '\\t')\n",
    "df_test = pd.read_csv('data/ratings_test.txt', delimiter = '\\t')"
   ]
  },
  {
   "cell_type": "markdown",
   "id": "4e0a8c08",
   "metadata": {},
   "source": [
    "## 결측치 제거"
   ]
  },
  {
   "cell_type": "code",
   "execution_count": 4,
   "id": "5251fe55",
   "metadata": {},
   "outputs": [],
   "source": [
    "df_train.dropna(inplace = True)\n",
    "df_test.dropna(inplace= True)"
   ]
  },
  {
   "cell_type": "code",
   "execution_count": 5,
   "id": "bee3dbb9",
   "metadata": {},
   "outputs": [],
   "source": [
    "text_train = df_train['document']"
   ]
  },
  {
   "cell_type": "markdown",
   "id": "6c9eed8f",
   "metadata": {},
   "source": [
    "## 토큰화"
   ]
  },
  {
   "cell_type": "code",
   "execution_count": 6,
   "id": "ffb17b34",
   "metadata": {},
   "outputs": [],
   "source": [
    "from sklearn.feature_extraction.text import CountVectorizer"
   ]
  },
  {
   "cell_type": "code",
   "execution_count": 9,
   "id": "b93b7b6f",
   "metadata": {},
   "outputs": [],
   "source": [
    "# max_features = 10000 가장 많이 등장하는 단어가 10000만 사용\n",
    "# max_df = .15 15이상의 문서에서 등장하는 단어 제거 \n",
    "cv = CountVectorizer(max_features=1000 , max_df = .15)\n",
    "X = cv.fit_transform(text_train)"
   ]
  },
  {
   "cell_type": "code",
   "execution_count": 10,
   "id": "49f9b02d",
   "metadata": {},
   "outputs": [
    {
     "data": {
      "text/plain": [
       "<149995x1000 sparse matrix of type '<class 'numpy.int64'>'\n",
       "\twith 369291 stored elements in Compressed Sparse Row format>"
      ]
     },
     "execution_count": 10,
     "metadata": {},
     "output_type": "execute_result"
    }
   ],
   "source": [
    "# 149995 문장을 10000개 단어로 표시 한 데이터를 벡터화\n",
    "X"
   ]
  },
  {
   "cell_type": "markdown",
   "id": "f2e22107",
   "metadata": {},
   "source": [
    "## LDA "
   ]
  },
  {
   "cell_type": "code",
   "execution_count": 11,
   "id": "66f18c61",
   "metadata": {},
   "outputs": [],
   "source": [
    "from sklearn.decomposition import LatentDirichletAllocation\n",
    "\n",
    "#n_components = 10 : 10개의 토픽그룹을 만들기\n",
    "#learning_method = 'betch' 기본값 online, batch 느리지만 성능이 좋음\n",
    "\n",
    "lda = LatentDirichletAllocation(n_components=10, learning_method='batch',\n",
    "                               max_iter= 25, random_state= 0)"
   ]
  },
  {
   "cell_type": "code",
   "execution_count": 12,
   "id": "5cd771c4",
   "metadata": {},
   "outputs": [],
   "source": [
    "document_topics = lda.fit_transform(X)"
   ]
  },
  {
   "cell_type": "code",
   "execution_count": 13,
   "id": "26e54efb",
   "metadata": {},
   "outputs": [
    {
     "data": {
      "text/plain": [
       "array([0.03333333, 0.3666666 , 0.03333333, 0.03333333, 0.03333333,\n",
       "       0.36666673, 0.03333333, 0.03333333, 0.03333333, 0.03333333])"
      ]
     },
     "execution_count": 13,
     "metadata": {},
     "output_type": "execute_result"
    }
   ],
   "source": [
    "document_topics[0]"
   ]
  },
  {
   "cell_type": "markdown",
   "id": "32ed99fb",
   "metadata": {},
   "source": [
    "### 토픽확인"
   ]
  },
  {
   "cell_type": "code",
   "execution_count": 14,
   "id": "1f849ce2",
   "metadata": {},
   "outputs": [],
   "source": [
    "import numpy as np\n",
    "import mglearn"
   ]
  },
  {
   "cell_type": "code",
   "execution_count": 15,
   "id": "38e770ef",
   "metadata": {},
   "outputs": [
    {
     "name": "stdout",
     "output_type": "stream",
     "text": [
      "topic 0       topic 1       topic 2       topic 3       topic 4       \n",
      "--------      --------      --------      --------      --------      \n",
      "이런            없다            영화            이건            너무            \n",
      "영화는           최고            ㅋㅋ            드라마           연기            \n",
      "평점이           하지만           최고의           완전            평점            \n",
      "좋다            같다            ㅠㅠ            이렇게           스토리           \n",
      "말이            지금            있는            쓰레기           마지막           \n",
      "감독            영화의           최악의           좋은            ㅡㅡ            \n",
      "재밌다           액션            많은            ㅋㅋㅋ           ㅎㅎ            \n",
      "영화가           봐도            여운이           가장            별로            \n",
      "영화를           나오는           최고다           오랜만에          작품            \n",
      "아니다           보다            가장            뻔한            연기도           \n",
      "\n",
      "\n",
      "topic 5       topic 6       topic 7       topic 8       topic 9       \n",
      "--------      --------      --------      --------      --------      \n",
      "진짜            정말            영화가           영화            역시            \n",
      "이게            그냥            그리고           보고            없고            \n",
      "봤는데           내가            감동            없는            아깝다           \n",
      "재밌게           보는            아니라           다시            10점           \n",
      "무슨            영화를           하는            이거            솔직히           \n",
      "근데            내내            1점            대한            끝까지           \n",
      "봤다            재미            느낌            만든            그래도           \n",
      "계속            이걸            차라리           연기가           전혀            \n",
      "도대체           재미없다          제대로           명작            아주            \n",
      "좋았다           이야기           재미있게          아름다운          뭔가            \n",
      "\n",
      "\n"
     ]
    },
    {
     "name": "stderr",
     "output_type": "stream",
     "text": [
      "C:\\Users\\smhrd\\anaconda3\\envs\\test\\lib\\site-packages\\sklearn\\utils\\deprecation.py:87: FutureWarning: Function get_feature_names is deprecated; get_feature_names is deprecated in 1.0 and will be removed in 1.2. Please use get_feature_names_out instead.\n",
      "  warnings.warn(msg, category=FutureWarning)\n"
     ]
    }
   ],
   "source": [
    "sorting = np.argsort(lda.components_, axis = 1)[:, ::-1]\n",
    "feature_names = np.array(cv.get_feature_names())\n",
    "mglearn.tools.print_topics(topics=range(10), feature_names = feature_names, \n",
    "                           sorting = sorting, topics_per_chunk = 5, n_words = 10)"
   ]
  },
  {
   "cell_type": "code",
   "execution_count": 18,
   "id": "c238098a",
   "metadata": {},
   "outputs": [
    {
     "data": {
      "text/plain": [
       "'아 더빙.. 진짜 짜증나네요 목소리'"
      ]
     },
     "execution_count": 18,
     "metadata": {},
     "output_type": "execute_result"
    }
   ],
   "source": [
    "#  문서의 크기가 커진다면 과소적합을 예방할 수 있음\n",
    "text_train[0]"
   ]
  },
  {
   "cell_type": "code",
   "execution_count": 17,
   "id": "48724790",
   "metadata": {},
   "outputs": [
    {
     "data": {
      "text/plain": [
       "array([0.03333333, 0.3666666 , 0.03333333, 0.03333333, 0.03333333,\n",
       "       0.36666673, 0.03333333, 0.03333333, 0.03333333, 0.03333333])"
      ]
     },
     "execution_count": 17,
     "metadata": {},
     "output_type": "execute_result"
    }
   ],
   "source": [
    "document_topics[0]"
   ]
  },
  {
   "cell_type": "code",
   "execution_count": null,
   "id": "500e4787",
   "metadata": {},
   "outputs": [],
   "source": []
  }
 ],
 "metadata": {
  "kernelspec": {
   "display_name": "Python 3 (ipykernel)",
   "language": "python",
   "name": "python3"
  },
  "language_info": {
   "codemirror_mode": {
    "name": "ipython",
    "version": 3
   },
   "file_extension": ".py",
   "mimetype": "text/x-python",
   "name": "python",
   "nbconvert_exporter": "python",
   "pygments_lexer": "ipython3",
   "version": "3.8.12"
  },
  "toc": {
   "base_numbering": 1,
   "nav_menu": {},
   "number_sections": true,
   "sideBar": true,
   "skip_h1_title": false,
   "title_cell": "Table of Contents",
   "title_sidebar": "Contents",
   "toc_cell": false,
   "toc_position": {},
   "toc_section_display": true,
   "toc_window_display": false
  }
 },
 "nbformat": 4,
 "nbformat_minor": 5
}
