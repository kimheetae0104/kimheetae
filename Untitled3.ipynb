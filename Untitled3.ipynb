{
 "cells": [
  {
   "cell_type": "markdown",
   "id": "a55c4879",
   "metadata": {},
   "source": [
    "# 플라스크 연동"
   ]
  },
  {
   "cell_type": "code",
   "execution_count": 1,
   "id": "51263718",
   "metadata": {
    "scrolled": true
   },
   "outputs": [
    {
     "name": "stdout",
     "output_type": "stream",
     "text": [
      "Requirement already satisfied: flask_cors in c:\\users\\smhrd\\anaconda3\\lib\\site-packages (3.0.10)\n",
      "Requirement already satisfied: Flask>=0.9 in c:\\users\\smhrd\\anaconda3\\lib\\site-packages (from flask_cors) (1.1.2)\n",
      "Requirement already satisfied: Six in c:\\users\\smhrd\\anaconda3\\lib\\site-packages (from flask_cors) (1.16.0)\n",
      "Requirement already satisfied: itsdangerous>=0.24 in c:\\users\\smhrd\\anaconda3\\lib\\site-packages (from Flask>=0.9->flask_cors) (2.0.1)\n",
      "Requirement already satisfied: click>=5.1 in c:\\users\\smhrd\\anaconda3\\lib\\site-packages (from Flask>=0.9->flask_cors) (8.0.3)\n",
      "Requirement already satisfied: Jinja2>=2.10.1 in c:\\users\\smhrd\\anaconda3\\lib\\site-packages (from Flask>=0.9->flask_cors) (3.0.3)\n",
      "Requirement already satisfied: Werkzeug>=0.15 in c:\\users\\smhrd\\anaconda3\\lib\\site-packages (from Flask>=0.9->flask_cors) (2.0.2)\n",
      "Requirement already satisfied: colorama in c:\\users\\smhrd\\anaconda3\\lib\\site-packages (from click>=5.1->Flask>=0.9->flask_cors) (0.4.4)\n",
      "Requirement already satisfied: MarkupSafe>=2.0 in c:\\users\\smhrd\\anaconda3\\lib\\site-packages (from Jinja2>=2.10.1->Flask>=0.9->flask_cors) (2.1.1)\n"
     ]
    }
   ],
   "source": [
    "!pip install flask_cors\n",
    "from flask import Flask\n",
    "from flask import redirect, request\n",
    "from flask_cors import CORS\n",
    "import pickle\n",
    "import pymysql\n",
    "import numpy as np\n",
    "import pandas as pd\n",
    "from sklearn.feature_extraction.text import CountVectorizer"
   ]
  },
  {
   "cell_type": "code",
   "execution_count": 2,
   "id": "4977b29f",
   "metadata": {},
   "outputs": [],
   "source": [
    "from konlpy.tag import Okt, Kkma\n",
    "okt = Okt()\n",
    "kkma = Kkma()"
   ]
  },
  {
   "cell_type": "code",
   "execution_count": 3,
   "id": "94ff602a",
   "metadata": {},
   "outputs": [],
   "source": [
    "# def myTokenizer2(text):\n",
    "#     d = pd.DataFrame(okt.pos(text, norm=True, stem=True), columns=['morph','tag'])\n",
    "#     d.set_index('tag', inplace=True)\n",
    "#     if ('Noun' in d.index) | ('Verb' in d.index) | ('Adjective' in d.index):\n",
    "#         labels = ['Noun','Verb','Adjective']\n",
    "#         return d.loc[d.index.intersection(labels)].dropna()['morph'].values\n",
    "#     else :\n",
    "#         return []"
   ]
  },
  {
   "cell_type": "code",
   "execution_count": 4,
   "id": "663b15b7",
   "metadata": {},
   "outputs": [],
   "source": [
    "cv_okt = CountVectorizer(tokenizer=myTokenizer2)"
   ]
  },
  {
   "cell_type": "code",
   "execution_count": 5,
   "id": "9b1326de",
   "metadata": {},
   "outputs": [],
   "source": [
    "# def preprocessing(model):\n",
    "#     contents = [request.form.get('diary')]\n",
    "#     print(contents)\n",
    "#     svm_model=model\n",
    "#     new_data_okt_cv = cv_okt.transform(contents)\n",
    "#     print(new_data_okt_cv)\n",
    "#     return svm_model.predict(new_data_okt_cv)[0]"
   ]
  },
  {
   "cell_type": "code",
   "execution_count": null,
   "id": "99fa867e",
   "metadata": {},
   "outputs": [],
   "source": []
  },
  {
   "cell_type": "code",
   "execution_count": 7,
   "id": "9a824053",
   "metadata": {},
   "outputs": [
    {
     "name": "stdout",
     "output_type": "stream",
     "text": [
      " * Serving Flask app \"__main__\" (lazy loading)\n",
      " * Environment: production\n",
      "\u001b[31m   WARNING: This is a development server. Do not use it in a production deployment.\u001b[0m\n",
      "\u001b[2m   Use a production WSGI server instead.\u001b[0m\n",
      " * Debug mode: off\n"
     ]
    },
    {
     "name": "stderr",
     "output_type": "stream",
     "text": [
      " * Running on http://127.0.0.1:5300/ (Press CTRL+C to quit)\n",
      "127.0.0.1 - - [12/Apr/2022 10:16:55] \"GET / HTTP/1.1\" 404 -\n",
      "127.0.0.1 - - [12/Apr/2022 10:17:01] \"GET / HTTP/1.1\" 404 -\n",
      "127.0.0.1 - - [12/Apr/2022 10:17:04] \"GET / HTTP/1.1\" 404 -\n",
      "127.0.0.1 - - [12/Apr/2022 10:17:07] \"GET /test HTTP/1.1\" 200 -\n"
     ]
    }
   ],
   "source": [
    "# 수정\n",
    "app = Flask(__name__)\n",
    "CORS(app)\n",
    "\n",
    "with open('dodam_model.pkl', 'rb') as f:\n",
    "        model = pickle.load(f)\n",
    "    \n",
    "@app.route(\"/test\",  methods=[\"GET\", \"POST\"])\n",
    "def test():\n",
    "    if request.method==\"POST\":\n",
    "        \n",
    "        display (request.form)\n",
    "        =request.form.get('diary')\n",
    "#         contents = [request.form.get('diary')]\n",
    "#         new_data_okt_cv = cv_okt.transform(contents)\n",
    "#         display(request.form)\n",
    "#         result = model.pred(new_data_okt_cv)[0]\n",
    "        return '완료'\n",
    "    else:\n",
    "        return \"실패\"\n",
    "\n",
    "    \n",
    "if __name__ == \"__main__\":\n",
    "    app.run(host = \"127.0.0.1\", port = 5300)"
   ]
  },
  {
   "cell_type": "code",
   "execution_count": null,
   "id": "f78aab03",
   "metadata": {},
   "outputs": [],
   "source": []
  },
  {
   "cell_type": "code",
   "execution_count": null,
   "id": "94e1b824",
   "metadata": {},
   "outputs": [],
   "source": []
  },
  {
   "cell_type": "code",
   "execution_count": null,
   "id": "0c56622d",
   "metadata": {},
   "outputs": [],
   "source": []
  },
  {
   "cell_type": "code",
   "execution_count": null,
   "id": "f5048854",
   "metadata": {},
   "outputs": [],
   "source": []
  }
 ],
 "metadata": {
  "kernelspec": {
   "display_name": "Python 3 (ipykernel)",
   "language": "python",
   "name": "python3"
  },
  "language_info": {
   "codemirror_mode": {
    "name": "ipython",
    "version": 3
   },
   "file_extension": ".py",
   "mimetype": "text/x-python",
   "name": "python",
   "nbconvert_exporter": "python",
   "pygments_lexer": "ipython3",
   "version": "3.9.7"
  },
  "toc": {
   "base_numbering": 1,
   "nav_menu": {},
   "number_sections": true,
   "sideBar": true,
   "skip_h1_title": false,
   "title_cell": "Table of Contents",
   "title_sidebar": "Contents",
   "toc_cell": false,
   "toc_position": {},
   "toc_section_display": true,
   "toc_window_display": false
  }
 },
 "nbformat": 4,
 "nbformat_minor": 5
}
