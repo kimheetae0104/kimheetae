{
 "cells": [
  {
   "cell_type": "markdown",
   "id": "3501392e",
   "metadata": {},
   "source": [
    "# 플라스크 임포트  "
   ]
  },
  {
   "cell_type": "code",
   "execution_count": 1,
   "id": "cceaef62",
   "metadata": {},
   "outputs": [],
   "source": [
    "import numpy as np"
   ]
  },
  {
   "cell_type": "code",
   "execution_count": 2,
   "id": "0d33854d",
   "metadata": {},
   "outputs": [],
   "source": [
    "val = np.float64(0)\n",
    "pyval = val.item()"
   ]
  },
  {
   "cell_type": "code",
   "execution_count": 3,
   "id": "febaccbf",
   "metadata": {},
   "outputs": [
    {
     "name": "stdout",
     "output_type": "stream",
     "text": [
      "Requirement already satisfied: PyMySQL in c:\\users\\smhrd\\anaconda3\\lib\\site-packages (1.0.2)\n"
     ]
    }
   ],
   "source": [
    "!pip install PyMySQL"
   ]
  },
  {
   "cell_type": "code",
   "execution_count": 4,
   "id": "0fe82558",
   "metadata": {},
   "outputs": [],
   "source": [
    "from flask import Flask\n",
    "from flask import redirect, request , jsonify\n",
    "\n",
    "from flask_cors import CORS\n",
    "import pandas as pd\n",
    "import pickle\n",
    "from konlpy.tag import Okt, Kkma\n",
    "okt = Okt()\n",
    "\n",
    "from sklearn.feature_extraction.text import CountVectorizer"
   ]
  },
  {
   "cell_type": "markdown",
   "id": "5ec42e46",
   "metadata": {},
   "source": [
    "# PymySQL"
   ]
  },
  {
   "cell_type": "code",
   "execution_count": 5,
   "id": "e6d32177",
   "metadata": {},
   "outputs": [],
   "source": [
    "import pymysql"
   ]
  },
  {
   "cell_type": "code",
   "execution_count": 6,
   "id": "0dee3f8e",
   "metadata": {},
   "outputs": [
    {
     "data": {
      "text/plain": [
       "<pymysql.connections.Connection at 0x16b20fd4c70>"
      ]
     },
     "execution_count": 6,
     "metadata": {},
     "output_type": "execute_result"
    }
   ],
   "source": [
    "db = pymysql.connect(host = 'project-db-stu.ddns.net', port = 3307, user= 'dodam',\n",
    "                    passwd='115', db='dodam', charset='utf8')\n",
    "db"
   ]
  },
  {
   "cell_type": "code",
   "execution_count": 7,
   "id": "8c9b39a5",
   "metadata": {},
   "outputs": [
    {
     "data": {
      "text/plain": [
       "<pymysql.cursors.DictCursor at 0x16b20fd4a60>"
      ]
     },
     "execution_count": 7,
     "metadata": {},
     "output_type": "execute_result"
    }
   ],
   "source": [
    "cursor = db.cursor(pymysql.cursors.DictCursor)\n",
    "cursor"
   ]
  },
  {
   "cell_type": "code",
   "execution_count": 8,
   "id": "df6fc1c5",
   "metadata": {},
   "outputs": [
    {
     "data": {
      "text/plain": [
       "[{'d_seq': 1,\n",
       "  'm_id': 'admin',\n",
       "  'c_seq': 1,\n",
       "  'd_title': '랄랄라 즐거운 스마트 인재 개발원 !!',\n",
       "  'd_content': '오늘은 점심은 또 뭐먹을까 ',\n",
       "  'd_msg': '1515 볶음밥은 맛있어 ',\n",
       "  'd_date': datetime.date(2022, 4, 15)},\n",
       " {'d_seq': 2,\n",
       "  'm_id': 'admin',\n",
       "  'c_seq': 1,\n",
       "  'd_title': '랄랄라 즐거운 스마트 인재 개발원 !!',\n",
       "  'd_content': '오늘은 점심은 또 뭐먹을까 ',\n",
       "  'd_msg': '1515 볶음밥은 맛있어 ',\n",
       "  'd_date': datetime.date(2022, 4, 16)},\n",
       " {'d_seq': 3,\n",
       "  'm_id': 'admin',\n",
       "  'c_seq': 1,\n",
       "  'd_title': '랄랄라 즐거운 스마트 인재 개발원 !!',\n",
       "  'd_content': '오늘은 점심은 또 뭐먹을까 ',\n",
       "  'd_msg': '1515 볶음밥은 맛있어 ',\n",
       "  'd_date': datetime.date(2022, 4, 17)},\n",
       " {'d_seq': 4,\n",
       "  'm_id': 'admin',\n",
       "  'c_seq': 1,\n",
       "  'd_title': '랄랄라 즐거운 스마트 인재 개발원 !!',\n",
       "  'd_content': '오늘은 점심은 또 뭐먹을까 ',\n",
       "  'd_msg': '1515 볶음밥은 맛있어 ',\n",
       "  'd_date': datetime.date(2022, 4, 18)},\n",
       " {'d_seq': 5,\n",
       "  'm_id': 'admin',\n",
       "  'c_seq': 1,\n",
       "  'd_title': '랄랄라 즐거운 스마트 인재 개발원 !!',\n",
       "  'd_content': '오늘은 점심은 또 뭐먹을까 ',\n",
       "  'd_msg': '1515 볶음밥은 맛있어 ',\n",
       "  'd_date': datetime.date(2022, 4, 19)}]"
      ]
     },
     "execution_count": 8,
     "metadata": {},
     "output_type": "execute_result"
    }
   ],
   "source": [
    "sql = \"SELECT * FROM `t_diary`;\"\n",
    "cursor.execute(sql)\n",
    "result = cursor.fetchall()\n",
    "result"
   ]
  },
  {
   "cell_type": "code",
   "execution_count": 9,
   "id": "0c439881",
   "metadata": {},
   "outputs": [],
   "source": [
    "def myTokenizer2(text):\n",
    "    d = pd.DataFrame(okt.pos(text, norm=True, stem=True), columns=['morph','tag'])\n",
    "    d.set_index('tag', inplace=True)\n",
    "    if ('Noun' in d.index) | ('Verb' in d.index) | ('Adjective' in d.index):\n",
    "        labels = ['Noun','Verb','Adjective']\n",
    "        return d.loc[d.index.intersection(labels)].dropna()['morph'].values\n",
    "    else :\n",
    "        return []"
   ]
  },
  {
   "cell_type": "code",
   "execution_count": 10,
   "id": "6bae2aa9",
   "metadata": {},
   "outputs": [],
   "source": [
    "def height_predict(model, input_height, n=72):\n",
    "    max_len = 72\n",
    "    for _ in range(len(input_height),n):# n번 반복\n",
    "        encoded = pad_sequences(input_height, maxlen=max_len-1, padding='pre',dtype='float32').reshape(71,-1)\n",
    "        result = model.predict([encoded.tolist()],verbose=0)\n",
    "        input_height = np.hstack([input_height,result])\n",
    "    return input_height"
   ]
  },
  {
   "cell_type": "code",
   "execution_count": 11,
   "id": "0ec58c92",
   "metadata": {
    "scrolled": true
   },
   "outputs": [
    {
     "ename": "IndentationError",
     "evalue": "unexpected indent (Temp/ipykernel_2088/1914634602.py, line 35)",
     "output_type": "error",
     "traceback": [
      "\u001b[1;36m  File \u001b[1;32m\"C:\\Users\\smhrd\\AppData\\Local\\Temp/ipykernel_2088/1914634602.py\"\u001b[1;36m, line \u001b[1;32m35\u001b[0m\n\u001b[1;33m    with open('dodam_lr.pkl','rb') as f1:\u001b[0m\n\u001b[1;37m    ^\u001b[0m\n\u001b[1;31mIndentationError\u001b[0m\u001b[1;31m:\u001b[0m unexpected indent\n"
     ]
    }
   ],
   "source": [
    "# 수정\n",
    "result = {}\n",
    "app = Flask(__name__)\n",
    "CORS(app)\n",
    "\n",
    "# with open('dodam_model.pkl', 'rb') as f:\n",
    "#     model = pickle.load(f)\n",
    "    \n",
    "@app.route(\"/post2\",  methods=[\"POST\", \"GET\"])\n",
    "def test():\n",
    "    if (request.method==\"POST\"):\n",
    "#        display(request.form)\n",
    "        #result = preprocessing(request.form.get('diary'))\n",
    "        display(request.form)\n",
    "        m_id=request.form.get('m_id')\n",
    "        c_seq=request.form.get('c_seq')\n",
    "        d_title=request.form.get('d_title')\n",
    "        diary=request.form.get('diary')\n",
    "        d_msg=request.form.get('d_msg')\n",
    "        d_date=request.form.get('d_date')\n",
    "        sql = '''insert into `t_diary` (m_id, c_seq, d_title, d_content, d_msg, d_date) \n",
    "values(%s, %s, %s, %s, %s, %s)'''\n",
    "        cursor.execute(sql , (m_id, c_seq, d_title, diary, d_msg, d_date))\n",
    "        db.commit()\n",
    "        result = cursor.fetchall()\n",
    "        result\n",
    "        #텍스트마이닝 \n",
    "        result = request.form.get('d_content')\n",
    "#         with open('dodam_cv.pkl', 'rb') as f:\n",
    "#     # 정의된 모델 선언\n",
    "#             cv = pickle.load(f)\n",
    "#     # 사용자가 입력한 데이터를 모델이 읽을 수 있는 데이터로 변환\n",
    "#             data_review = cv.transform([result])\n",
    "#     # 예측 결과를 a에 담는다.\n",
    "        with open('dodam_lr.pkl','rb') as f1:\n",
    "              lr_model = pickle.load(f1)\n",
    "                pre = lr_model.predict_proba(data_review)\n",
    "                feel_list = ['기쁨','분노','불안','슬픔']\n",
    "                result_list = []\n",
    "                for i in range(len(feel_list)):\n",
    "                    result_list.append(pre[0][i])\n",
    "                    print(f\"{feel_list[i]} : {pre[0][i]}\")\n",
    "                e_joy = round((result_list[0]*100),2)\n",
    "                e_joy = e_joy.item()\n",
    "                e_sorrow = round((result_list[3]*100),2)\n",
    "                e_sorrow = e_sorrow.item()\n",
    "                print(e_sorrow)\n",
    "                print(type(e_sorrow))\n",
    "                e_anger = round((result_list[1]*100),2)\n",
    "                e_anger = e_anger.item()\n",
    "                e_unrest = round((result_list[2]*100),2)\n",
    "                e_unrest = e_unrest.item()\n",
    "                sql1 = '''insert into `t_emotion` (m_id, e_joy, e_sorrow, e_anger, e_unrest, d_date) \n",
    "values(%s, %s, %s, %s, %s, %s)'''\n",
    "                cursor.execute(sql1, (m_id, e_joy, e_sorrow, e_anger, e_unrest, d_date))\n",
    "                db.commit()\n",
    "                result1 = cursor.fetchall()\n",
    "                result1\n",
    "                print(pre[0])\n",
    "#         result = test()\n",
    "#         print(result)\n",
    "        result2 = str(\"%.2f%%\"%(pre[0][0]*100)) + \"<br>\" + str(feel_list[1])+\" : \"+str(\"%.2f%%\"%(pre[0][1]*100)) + \"<br>\"+str(feel_list[2])+\" : \"+str(\"%.2f%%\"%(pre[0][2]*100)) + \"<br>\"+str(feel_list[3])+\" : \"+str(\"%.2f%%\"%(pre[0][3]*100))\n",
    "        #return str(feel_list[0])+\" : \"\n",
    "        return redirect(\"http://localhost:8089/dodam/diary.do?result2=\"+result2)\n",
    "    else:\n",
    "        return \"왜안돼?\"\n",
    "\n",
    "@app.route(\"/height\",  methods=[\"POST\", \"GET\"])\n",
    "def test2():\n",
    "    if (request.method==\"POST\"):\n",
    "#        display(request.form)\n",
    "        #result = preprocessing(request.form.get('diary'))\n",
    "        model = load_model('Height.h5')   \n",
    "        display(request.form)\n",
    "        input_height = request.form.get('height')\n",
    "        print(input_height)\n",
    "        result = height_predict(model, np.array([[input_height]]))\n",
    "        print(result)\n",
    "        return str(float(result[0][71])*100//1/100)\n",
    "    else:\n",
    "        return \"왜안돼?\"\n",
    "\n",
    "if __name__ == \"__main__\":\n",
    "    app.run(host = \"127.0.0.1\", port =7000)\n",
    "    # result = test()"
   ]
  },
  {
   "cell_type": "code",
   "execution_count": null,
   "id": "6157faaf",
   "metadata": {},
   "outputs": [],
   "source": []
  },
  {
   "cell_type": "code",
   "execution_count": null,
   "id": "1f8ca03a",
   "metadata": {},
   "outputs": [],
   "source": []
  }
 ],
 "metadata": {
  "kernelspec": {
   "display_name": "Python 3 (ipykernel)",
   "language": "python",
   "name": "python3"
  },
  "language_info": {
   "codemirror_mode": {
    "name": "ipython",
    "version": 3
   },
   "file_extension": ".py",
   "mimetype": "text/x-python",
   "name": "python",
   "nbconvert_exporter": "python",
   "pygments_lexer": "ipython3",
   "version": "3.9.7"
  },
  "toc": {
   "base_numbering": 1,
   "nav_menu": {},
   "number_sections": true,
   "sideBar": true,
   "skip_h1_title": false,
   "title_cell": "Table of Contents",
   "title_sidebar": "Contents",
   "toc_cell": false,
   "toc_position": {},
   "toc_section_display": true,
   "toc_window_display": true
  }
 },
 "nbformat": 4,
 "nbformat_minor": 5
}
