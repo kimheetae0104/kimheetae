{
 "cells": [
  {
   "cell_type": "code",
   "execution_count": 1,
   "id": "a2683a08",
   "metadata": {},
   "outputs": [],
   "source": [
    "import numpy as np\n",
    "from flask import Flask\n",
    "from flask import redirect, request , jsonify\n",
    "from flask_cors import CORS\n",
    "import pandas as pd\n",
    "from tensorflow.keras.preprocessing.sequence import pad_sequences\n",
    "from tensorflow.keras.models import load_model\n",
    "import pymysql"
   ]
  },
  {
   "cell_type": "code",
   "execution_count": null,
   "id": "679a6877",
   "metadata": {},
   "outputs": [
    {
     "name": "stdout",
     "output_type": "stream",
     "text": [
      " * Serving Flask app \"__main__\" (lazy loading)\n",
      " * Environment: production\n",
      "\u001b[31m   WARNING: This is a development server. Do not use it in a production deployment.\u001b[0m\n",
      "\u001b[2m   Use a production WSGI server instead.\u001b[0m\n",
      " * Debug mode: off\n"
     ]
    },
    {
     "name": "stderr",
     "output_type": "stream",
     "text": [
      " * Running on http://127.0.0.1:7100/ (Press CTRL+C to quit)\n"
     ]
    }
   ],
   "source": [
    "# 수정\n",
    "result = {}\n",
    "app = Flask(__name__)\n",
    "CORS(app)\n",
    "\n",
    "# with open('dodam_model.pkl', 'rb') as f:\n",
    "#     model = pickle.load(f)\n",
    "    \n",
    "\n",
    "\n",
    "def height_predict(model, input_height, n=72):\n",
    "    max_len = 72\n",
    "    for _ in range(len(input_height),n):# n번 반복\n",
    "        encoded = pad_sequences(input_height, maxlen=max_len-1, padding='pre',dtype='float32').reshape(71,-1)\n",
    "        result = model.predict([encoded.tolist()],verbose=0)\n",
    "        input_height = np.hstack([input_height,result])\n",
    "    return input_height\n",
    "\n",
    "@app.route(\"/height\",  methods=[\"POST\", \"GET\"])\n",
    "def test():\n",
    "    if (request.method==\"POST\"):\n",
    "#        display(request.form)\n",
    "        #result = preprocessing(request.form.get('diary'))\n",
    "        model = load_model('Height.h5')   \n",
    "        display(request.form)\n",
    "        input_height = request.form.get('height')\n",
    "        print(input_height)\n",
    "        result = height_predict(model, np.array([[input_height]]))\n",
    "        print(result)\n",
    "        return str(float(result[0][71])*100//1/100)\n",
    "      \n",
    "\n",
    "        \n",
    "    \n",
    "\n",
    "    else:\n",
    "        return \"왜안돼?\"\n",
    "\n",
    "\n",
    "    \n",
    "if __name__ == \"__main__\":\n",
    "    app.run(host = \"127.0.0.1\", port =7100)\n",
    "    # result = test()"
   ]
  },
  {
   "cell_type": "code",
   "execution_count": null,
   "id": "caf74796",
   "metadata": {},
   "outputs": [],
   "source": []
  }
 ],
 "metadata": {
  "kernelspec": {
   "display_name": "Python 3 (ipykernel)",
   "language": "python",
   "name": "python3"
  },
  "language_info": {
   "codemirror_mode": {
    "name": "ipython",
    "version": 3
   },
   "file_extension": ".py",
   "mimetype": "text/x-python",
   "name": "python",
   "nbconvert_exporter": "python",
   "pygments_lexer": "ipython3",
   "version": "3.9.7"
  },
  "toc": {
   "base_numbering": 1,
   "nav_menu": {},
   "number_sections": true,
   "sideBar": true,
   "skip_h1_title": false,
   "title_cell": "Table of Contents",
   "title_sidebar": "Contents",
   "toc_cell": false,
   "toc_position": {},
   "toc_section_display": true,
   "toc_window_display": false
  }
 },
 "nbformat": 4,
 "nbformat_minor": 5
}
