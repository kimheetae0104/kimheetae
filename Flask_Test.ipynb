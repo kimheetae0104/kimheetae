{
 "cells": [
  {
   "cell_type": "code",
   "execution_count": null,
   "id": "4a4dfee2",
   "metadata": {},
   "outputs": [],
   "source": [
    "from flask import Flask\n",
    "from flask import redirect, request , jsonify\n",
    "from flask_cors import CORS\n",
    "import pickle\n",
    "import pymysql\n",
    "import numpy as np\n",
    "from flask import request\n",
    "import json\n",
    "from sklearn.feature_extraction.text import CountVectorizer"
   ]
  },
  {
   "cell_type": "code",
   "execution_count": 2,
   "id": "f6cd576f",
   "metadata": {},
   "outputs": [],
   "source": [
    "#!pip install flask_cors"
   ]
  },
  {
   "cell_type": "code",
   "execution_count": 3,
   "id": "9b93cfe1",
   "metadata": {},
   "outputs": [],
   "source": [
    "import pandas as pd"
   ]
  },
  {
   "cell_type": "code",
   "execution_count": 4,
   "id": "4aadfd1d",
   "metadata": {},
   "outputs": [],
   "source": [
    "dict1 = {'data1': '3', 'data2': '11', 'data3': '77'}"
   ]
  },
  {
   "cell_type": "code",
   "execution_count": 5,
   "id": "d77d7224",
   "metadata": {},
   "outputs": [
    {
     "data": {
      "text/plain": [
       "\"data_dict = '감정_대분류 '\\ndef preprocessing(data_dict):\\n    with open('dodam_model.pkl', 'rb') as f:\\n        model = pickle.load(f)\\n        \\n    df = pd.DataFrame(list(pre.items()), columns=['name', 'values'])\\n     \\n    df['감정_대분류'] = data_dict['감정_대분류']\\n    \\n    return df\\n        \""
      ]
     },
     "execution_count": 5,
     "metadata": {},
     "output_type": "execute_result"
    }
   ],
   "source": [
    "\"\"\"data_dict = '감정_대분류 '\n",
    "def preprocessing(data_dict):\n",
    "    with open('dodam_model.pkl', 'rb') as f:\n",
    "        model = pickle.load(f)\n",
    "        \n",
    "    df = pd.DataFrame(list(pre.items()), columns=['name', 'values'])\n",
    "     \n",
    "    df['감정_대분류'] = data_dict['감정_대분류']\n",
    "    \n",
    "    return df\n",
    "        \"\"\""
   ]
  },
  {
   "cell_type": "code",
   "execution_count": null,
   "id": "d4bb379e",
   "metadata": {},
   "outputs": [],
   "source": []
  },
  {
   "cell_type": "code",
   "execution_count": 6,
   "id": "01163ba9",
   "metadata": {},
   "outputs": [
    {
     "data": {
      "text/plain": [
       "'app = Flask(__name__)\\n\\nCORS(app)\\n\\nwith open(\\'dodam_model.pkl\\', \\'rb\\') as f:\\n    model = pickle.load(f)\\n    \\n    \\n    \\n@app.route(\"/\",  methods=[\"GET\", \"POST\"])\\ndef test():\\n    if request.method == \\'POST\\' :\\n        display(request.form)\\n        # 넘어온 값을 전처리\\n        # [(\"key1\", \"value1\"), (\"key2\", \"value2\")...]\\n        pre = request.form\\n        print(pre)\\n        return \"POST 연결\"\\n    \\n    else:\\n        pre = request.args\\n        pre = dict(pre)\\n        print(pre)\\n        df = pd.DataFrame(list(model.items()), columns=[\\'name\\', \\'value\\'])\\n        return \"GET 연결\"\\n     \\n\\nif __name__ == \"__main__\":\\n    app.run(host = \"127.0.0.1\", port = 3300)'"
      ]
     },
     "execution_count": 6,
     "metadata": {},
     "output_type": "execute_result"
    }
   ],
   "source": [
    "\n",
    "\"\"\"app = Flask(__name__)\n",
    "\n",
    "CORS(app)\n",
    "\n",
    "with open('dodam_model.pkl', 'rb') as f:\n",
    "    model = pickle.load(f)\n",
    "    \n",
    "    \n",
    "    \n",
    "@app.route(\"/\",  methods=[\"GET\", \"POST\"])\n",
    "def test():\n",
    "    if request.method == 'POST' :\n",
    "        display(request.form)\n",
    "        # 넘어온 값을 전처리\n",
    "        # [(\"key1\", \"value1\"), (\"key2\", \"value2\")...]\n",
    "        pre = request.form\n",
    "        print(pre)\n",
    "        return \"POST 연결\"\n",
    "    \n",
    "    else:\n",
    "        pre = request.args\n",
    "        pre = dict(pre)\n",
    "        print(pre)\n",
    "        df = pd.DataFrame(list(model.items()), columns=['name', 'value'])\n",
    "        return \"GET 연결\"\n",
    "     \n",
    "\n",
    "if __name__ == \"__main__\":\n",
    "    app.run(host = \"127.0.0.1\", port = 3300)\"\"\""
   ]
  },
  {
   "cell_type": "code",
   "execution_count": null,
   "id": "026d073f",
   "metadata": {},
   "outputs": [],
   "source": [
    "from flask import Flask\n",
    "from flask import redirect, request , jsonify"
   ]
  },
  {
   "cell_type": "code",
   "execution_count": null,
   "id": "b361c518",
   "metadata": {},
   "outputs": [],
   "source": [
    "def preprocessing():\n",
    "    pre = request.form.get(\"diary\")\n",
    "    new_data_okt_cv = cv_okt.transform(pre)\n",
    "    return svm_model.predict(new_data_okt_cv)[0]"
   ]
  },
  {
   "cell_type": "code",
   "execution_count": null,
   "id": "7d797ecc",
   "metadata": {},
   "outputs": [],
   "source": [
    "# 수정\n",
    "app = Flask(__name__)\n",
    "CORS(app)\n",
    "\n",
    "with open('dodam_model.pkl', 'rb') as f:\n",
    "    model = pickle.load(f)\n",
    "    \n",
    "@app.route(\"/post\",  methods=[\"POST\", \"GET\"])\n",
    "def test():\n",
    "    if (request.method==\"POST\"):\n",
    "        display(request.form)\n",
    "        preprocessing()\n",
    "        #pre = request.form.get(\"diary\")\n",
    "        #new_data_okt_cv = cv_okt.transform(pre)\n",
    "        #return svm_model.predict(new_data_okt_cv)[0]\n",
    "        return \"돼요\"\n",
    "    else:\n",
    "        return \"왜안돼?\"\n",
    "   \n",
    "def format_datetime(value, fmt=\"%Y년 %m월 %d일 %H:%M\"):\n",
    "    return value.strftime(fmt.encode('unicode-escape').decode()).encode().decode('unicode-escape')\n",
    "    \n",
    "if __name__ == \"__main__\":\n",
    "    app.run(host = \"127.0.0.1\", port = 5300  )\n",
    "    result = test()"
   ]
  },
  {
   "cell_type": "code",
   "execution_count": null,
   "id": "4c4b0125",
   "metadata": {},
   "outputs": [],
   "source": []
  },
  {
   "cell_type": "code",
   "execution_count": null,
   "id": "429cc143",
   "metadata": {},
   "outputs": [],
   "source": []
  }
 ],
 "metadata": {
  "kernelspec": {
   "display_name": "Python 3 (ipykernel)",
   "language": "python",
   "name": "python3"
  },
  "language_info": {
   "codemirror_mode": {
    "name": "ipython",
    "version": 3
   },
   "file_extension": ".py",
   "mimetype": "text/x-python",
   "name": "python",
   "nbconvert_exporter": "python",
   "pygments_lexer": "ipython3",
   "version": "3.9.7"
  },
  "toc": {
   "base_numbering": 1,
   "nav_menu": {},
   "number_sections": true,
   "sideBar": true,
   "skip_h1_title": false,
   "title_cell": "Table of Contents",
   "title_sidebar": "Contents",
   "toc_cell": false,
   "toc_position": {},
   "toc_section_display": true,
   "toc_window_display": false
  }
 },
 "nbformat": 4,
 "nbformat_minor": 5
}
