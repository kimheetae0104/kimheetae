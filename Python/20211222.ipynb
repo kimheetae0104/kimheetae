{
 "cells": [
  {
   "cell_type": "markdown",
   "id": "de2c333e",
   "metadata": {},
   "source": [
    "삼항연산자\n",
    "- a if 조건식 else b\n",
    "-\n",
    "-\n",
    "-\n"
   ]
  },
  {
   "cell_type": "code",
   "execution_count": 2,
   "id": "d05de944",
   "metadata": {},
   "outputs": [
    {
     "data": {
      "text/plain": [
       "'불합격'"
      ]
     },
     "execution_count": 2,
     "metadata": {},
     "output_type": "execute_result"
    }
   ],
   "source": [
    "score = 50\n",
    "'합격' if score >= 60 else '불합격'"
   ]
  },
  {
   "cell_type": "code",
   "execution_count": 4,
   "id": "869684ce",
   "metadata": {},
   "outputs": [
    {
     "name": "stdout",
     "output_type": "stream",
     "text": [
      "정수 입력 >>3\n",
      "정수 입력 >>10\n",
      "b; 10\n"
     ]
    }
   ],
   "source": [
    "a = int(input('정수 입력 >>'))\n",
    "b = int(input('정수 입력 >>'))\n",
    "print(f'b; {b}') if b>a else print(f'a: {a}') "
   ]
  },
  {
   "cell_type": "code",
   "execution_count": 12,
   "id": "47d79cbe",
   "metadata": {},
   "outputs": [
    {
     "name": "stdout",
     "output_type": "stream",
     "text": [
      "첫번째 정수 입력 >>12\n",
      "두번째 정수 입력 >>5\n",
      "a-b:7\n"
     ]
    }
   ],
   "source": [
    "a = int(input('첫번째 정수 입력 >>'))\n",
    "b = int(input('두번째 정수 입력 >>'))\n",
    "print(f'b-a:{b-a}') if b>a else print(f'a-b:{a-b}')"
   ]
  },
  {
   "cell_type": "code",
   "execution_count": 19,
   "id": "4dec6a3f",
   "metadata": {},
   "outputs": [
    {
     "name": "stdout",
     "output_type": "stream",
     "text": [
      "정수입력>>5\n",
      "5는(은) 홀수입니다.\n"
     ]
    }
   ],
   "source": [
    "num = int(input('정수입력>>'))\n",
    "print(f'{num} 는(은) 짝수입니다.') if num%2==0 else print(f'{num}는(은) 홀수입니다.')"
   ]
  },
  {
   "cell_type": "code",
   "execution_count": 23,
   "id": "fe37ef3e",
   "metadata": {
    "scrolled": true
   },
   "outputs": [
    {
     "name": "stdout",
     "output_type": "stream",
     "text": [
      "정수입력>>10\n",
      "10는(은) 짝수입니다.\n"
     ]
    }
   ],
   "source": [
    "num3 = int(input('정수입력>>'))\n",
    "result = '짝수' if num3 % 2 == 0 else '홀수'\n",
    "print(f'{num3}는(은) {result}입니다.')"
   ]
  },
  {
   "cell_type": "markdown",
   "id": "43c44a38",
   "metadata": {},
   "source": [
    "조건문\n",
    "- if, elif.else"
   ]
  },
  {
   "cell_type": "code",
   "execution_count": 28,
   "id": "26f13daf",
   "metadata": {},
   "outputs": [
    {
     "name": "stdout",
     "output_type": "stream",
     "text": [
      "if문 밖에있는 문장 실행\n"
     ]
    }
   ],
   "source": [
    "if False :\n",
    "    print('실행문장실행')\n",
    "print('if문 밖에있는 문장 실행')"
   ]
  },
  {
   "cell_type": "code",
   "execution_count": 35,
   "id": "6f3e7d82",
   "metadata": {},
   "outputs": [
    {
     "name": "stdout",
     "output_type": "stream",
     "text": [
      "11111\n",
      "택시를 탄다\n",
      "걸어간다\n"
     ]
    }
   ],
   "source": [
    "money = int(input())\n",
    "if (money > 10000) :\n",
    "    print('택시를 탄다')\n",
    "print('걸어간다')"
   ]
  },
  {
   "cell_type": "code",
   "execution_count": 37,
   "id": "707693c4",
   "metadata": {
    "scrolled": true
   },
   "outputs": [
    {
     "name": "stdout",
     "output_type": "stream",
     "text": [
      "9000\n"
     ]
    }
   ],
   "source": [
    "money = int(input('money = '))\n"
   ]
  },
  {
   "cell_type": "code",
   "execution_count": 38,
   "id": "f609d171",
   "metadata": {},
   "outputs": [
    {
     "name": "stdout",
     "output_type": "stream",
     "text": [
      "버스를탄다\n"
     ]
    }
   ],
   "source": [
    "if money > 10000 :\n",
    "    print(\"택시를탄다\")\n",
    "else:\n",
    "    print(\"버스를탄다\")"
   ]
  },
  {
   "cell_type": "code",
   "execution_count": 40,
   "id": "c3db95f1",
   "metadata": {},
   "outputs": [
    {
     "name": "stdout",
     "output_type": "stream",
     "text": [
      "정수입력 >> 55\n"
     ]
    }
   ],
   "source": [
    "num = int(input('정수입력 >> '))"
   ]
  },
  {
   "cell_type": "code",
   "execution_count": 41,
   "id": "3ba63f0f",
   "metadata": {},
   "outputs": [
    {
     "name": "stdout",
     "output_type": "stream",
     "text": [
      "3과 5의 배수가 아닙니다\n"
     ]
    }
   ],
   "source": [
    "if num%3==0and num%5==0 :\n",
    "    print('3과 5의 배수입니다')\n",
    "else :형님 else if 가 아니라 elif요\n",
    "    print('3과 5의 배수가 아닙니다')"
   ]
  },
  {
   "cell_type": "code",
   "execution_count": 46,
   "id": "15acd432",
   "metadata": {},
   "outputs": [
    {
     "name": "stdout",
     "output_type": "stream",
     "text": [
      "첫번째정수입력>>10\n",
      "두번째정수입력>>8\n",
      "첫번째정수가더큽니다\n"
     ]
    }
   ],
   "source": [
    "num1 = int(input('첫번째정수입력>>'))\n",
    "num2 = int(input('두번째정수입력>>'))\n",
    "if num1 > num2 :\n",
    "    print('첫번째정수가더큽니다')\n",
    "elif num1 < num2 :\n",
    "    print('두번째 정수가 더 큽니다')\n",
    "elif num1 == num2 :\n",
    "    print('두수가 똑같습니다')"
   ]
  },
  {
   "cell_type": "code",
   "execution_count": 52,
   "id": "c9b6c8ed",
   "metadata": {},
   "outputs": [
    {
     "ename": "SyntaxError",
     "evalue": "invalid syntax (Temp/ipykernel_2620/3442057029.py, line 3)",
     "output_type": "error",
     "traceback": [
      "\u001b[1;36m  File \u001b[1;32m\"C:\\Users\\smhrd\\AppData\\Local\\Temp/ipykernel_2620/3442057029.py\"\u001b[1;36m, line \u001b[1;32m3\u001b[0m\n\u001b[1;33m    if score =< 100 and score >=90 :\u001b[0m\n\u001b[1;37m             ^\u001b[0m\n\u001b[1;31mSyntaxError\u001b[0m\u001b[1;31m:\u001b[0m invalid syntax\n"
     ]
    }
   ],
   "source": [
    "score = int(input('점수입력 >>'))\n",
    "# and 사용해서 쓰는게 정확함\n",
    "if score =< 100 and score >=90 :\n",
    "    print('A학점입니다')\n",
    "elif 90>score>=80 :\n",
    "    print('B학점입니다.')\n",
    "elif 80>score>=70 :\n",
    "    print('C학점입니다.')\n",
    "elif 70>score>=60 :\n",
    "    print('D학점입니다.')\n",
    "else:\n",
    "    print('낙제')"
   ]
  },
  {
   "cell_type": "code",
   "execution_count": 53,
   "id": "58d39b3f",
   "metadata": {},
   "outputs": [
    {
     "name": "stdout",
     "output_type": "stream",
     "text": [
      "\n",
      "================================================\n",
      "================---- 자판기 ----================\n",
      "================================================\n",
      "== 1.콜라 == 2.사이다 ==  3.물  =======insert===\n",
      "==--------==----------==--------=======------===\n",
      "==   600  ==    800   ==  1000  ======= O00원===\n",
      "=======================================------===\n",
      "================================================\n",
      "==++++++++++++++++++++++++++++++++++++++++++++==\n",
      "==++++++++++++++++++++++++++++++++++++++++++++==\n",
      "==++++++++++++++++++++++++++++++++++++++++++++==\n",
      "==+++++++++++++++              +++++++++++++++==\n",
      "==+++++++++++++++     SMHRD    +++++++++++++++==\n",
      "==+++++++++++++++              +++++++++++++++==\n",
      "==++++++++++++++++++++++++++++++++++++++++++++==\n",
      "==++++++++++++++++++++++++++++++++++++++++++++==\n",
      "================================================\n",
      "================================================\n",
      "  ===                                      ===\n",
      "  ===                                      ===\n",
      "\n"
     ]
    }
   ],
   "source": [
    "print('''\n",
    "================================================\n",
    "================---- 자판기 ----================\n",
    "================================================\n",
    "== 1.콜라 == 2.사이다 ==  3.물  =======insert===\n",
    "==--------==----------==--------=======------===\n",
    "==   600  ==    800   ==  1000  ======= O00원===\n",
    "=======================================------===\n",
    "================================================\n",
    "==++++++++++++++++++++++++++++++++++++++++++++==\n",
    "==++++++++++++++++++++++++++++++++++++++++++++==\n",
    "==++++++++++++++++++++++++++++++++++++++++++++==\n",
    "==+++++++++++++++              +++++++++++++++==\n",
    "==+++++++++++++++     SMHRD    +++++++++++++++==\n",
    "==+++++++++++++++              +++++++++++++++==\n",
    "==++++++++++++++++++++++++++++++++++++++++++++==\n",
    "==++++++++++++++++++++++++++++++++++++++++++++==\n",
    "================================================\n",
    "================================================\n",
    "  ===                                      ===\n",
    "  ===                                      ===\n",
    "''')\n"
   ]
  },
  {
   "cell_type": "code",
   "execution_count": 84,
   "id": "18466c56",
   "metadata": {},
   "outputs": [
    {
     "name": "stdout",
     "output_type": "stream",
     "text": [
      "insert coin >>5000\n",
      "메뉴 선택 >> 1\n",
      "잔동 >> 1000원 5개 500원 0개 100원 0개\n"
     ]
    }
   ],
   "source": [
    "money = int(input('insert coin >>'))\n",
    "choice = int(input('메뉴 선택 >> '))\n",
    "#str로 받는 방법 int 빼고 input 으로 그냥 받기`\n",
    "\n",
    "if choice == '1' :\n",
    "    money = money - 600\n",
    "elif choice == '2' :\n",
    "    money= money - 800\n",
    "elif choice == '3':\n",
    "    money = money - 1000\n",
    "#/이건 나머지가 없는 소수점까지나오는 몫이고 //이건 몫만 출력이 됩니다\n",
    "cheon = money//1000\n",
    "obak = money%1000//500\n",
    "bak = money%500//100\n",
    "\n",
    "if money>=0:\n",
    "    print('잔돈 >> 1000원 %d개 500원 %d개 100원 %d개'%(cheon,obak,bak))\n",
    "else:\n",
    "    print('잔액부족')"
   ]
  },
  {
   "cell_type": "markdown",
   "id": "3dd5270d",
   "metadata": {},
   "source": [
    "리스트\n",
    "- 파이썬의 자료구조 형태중 하나\n",
    "- 순서가 있는 수정이 가능한 객체의 집합\n",
    "- 추가, 수정, 삭제 가능!!"
   ]
  },
  {
   "cell_type": "code",
   "execution_count": 88,
   "id": "8ff17b39",
   "metadata": {},
   "outputs": [
    {
     "name": "stdout",
     "output_type": "stream",
     "text": [
      "[1, 2, ['my', 'name']]\n"
     ]
    }
   ],
   "source": [
    "A = []\n",
    "b = [1,2,3]\n",
    "c = ['my','name']\n",
    "d = [1,2,'my','name']\n",
    "e = [1,2,['my','name']]\n",
    "print(e)"
   ]
  },
  {
   "cell_type": "code",
   "execution_count": 90,
   "id": "3365fa10",
   "metadata": {},
   "outputs": [
    {
     "name": "stdout",
     "output_type": "stream",
     "text": [
      "2\n",
      "7\n",
      "17\n"
     ]
    }
   ],
   "source": [
    "list1 = [2,5,7,9,10]\n",
    "print(list1[0])\n",
    "print(list1[2])\n",
    "print(list1[2]+list1[-1])"
   ]
  },
  {
   "cell_type": "code",
   "execution_count": 92,
   "id": "7e1027cb",
   "metadata": {},
   "outputs": [
    {
     "data": {
      "text/plain": [
       "[1, 2, 3, ['a', 'b', 'c']]"
      ]
     },
     "execution_count": 92,
     "metadata": {},
     "output_type": "execute_result"
    }
   ],
   "source": [
    "list2 = [1,2,3,['a','b',\"c\"]]\n",
    "list2"
   ]
  },
  {
   "cell_type": "code",
   "execution_count": 93,
   "id": "271e11f7",
   "metadata": {},
   "outputs": [
    {
     "name": "stdout",
     "output_type": "stream",
     "text": [
      "['a', 'b', 'c']\n"
     ]
    }
   ],
   "source": [
    "temp = list2[3]\n",
    "print(temp)"
   ]
  },
  {
   "cell_type": "code",
   "execution_count": 96,
   "id": "4dad29e0",
   "metadata": {},
   "outputs": [
    {
     "name": "stdout",
     "output_type": "stream",
     "text": [
      "b\n",
      "b\n"
     ]
    }
   ],
   "source": [
    "#b를 출력하세요!\n",
    "print(temp[1])\n",
    "print(list2[3][1])"
   ]
  },
  {
   "cell_type": "code",
   "execution_count": 99,
   "id": "3e11eafd",
   "metadata": {},
   "outputs": [
    {
     "name": "stdout",
     "output_type": "stream",
     "text": [
      "[1, 2]\n",
      "[0, 1]\n",
      "[3]\n"
     ]
    }
   ],
   "source": [
    "list3 =[0,1,2,3,4]\n",
    "print(list3[1:3])\n",
    "#list에서 가져왓기 때문에 값도 list\n",
    "print(list3[:2])\n",
    "print(list3[3:4])\n"
   ]
  },
  {
   "cell_type": "code",
   "execution_count": 100,
   "id": "ff56b002",
   "metadata": {},
   "outputs": [
    {
     "data": {
      "text/plain": [
       "[1, 2, 3, 3, 4, 5, 6]"
      ]
     },
     "execution_count": 100,
     "metadata": {},
     "output_type": "execute_result"
    }
   ],
   "source": [
    "list4 = [1,2,3]\n",
    "list5 = [3,4,5,6]\n",
    "list4+list5"
   ]
  },
  {
   "cell_type": "code",
   "execution_count": 118,
   "id": "9459b090",
   "metadata": {},
   "outputs": [],
   "source": [
    "# append함수를 활용한 값 추가(맨뒤에 오게 된다)\n",
    "list6=[1,2,3,4,5]\n",
    "list6.append(6)"
   ]
  },
  {
   "cell_type": "code",
   "execution_count": 124,
   "id": "8fca9f96",
   "metadata": {},
   "outputs": [
    {
     "name": "stdout",
     "output_type": "stream",
     "text": [
      "['사과', '수박', '오렌지']\n"
     ]
    }
   ],
   "source": [
    "list_fruit =['사과','포도',['수박','멜론'],'복숭아','딸기','오렌지']\n",
    "list_apple = list_fruit[0]\n",
    "list_watermelon = list_fruit[2][0]\n",
    "list_orange = list_fruit[5]\n",
    "choice_list=[]\n",
    "choice_list.append(list_apple)\n",
    "choice_list.append(list_watermelon)\n",
    "choice_list.append(list_orange)\n",
    "print(choice_list)"
   ]
  },
  {
   "cell_type": "code",
   "execution_count": 126,
   "id": "44ed6e7e",
   "metadata": {},
   "outputs": [
    {
     "name": "stdout",
     "output_type": "stream",
     "text": [
      "[0, 5, 1, 2, 3, 4]\n"
     ]
    }
   ],
   "source": [
    "list5 = [0,1,2,3,4]\n",
    "list5.insert(1,5)\n",
    "print(list5)"
   ]
  },
  {
   "cell_type": "code",
   "execution_count": null,
   "id": "13abc212",
   "metadata": {},
   "outputs": [],
   "source": [
    "music_list = [['Butter','방탄'],['헤픈우연','헤이즈'],['라일락','아이유']]\n",
    "loc = musci_list.insert(['헤픈우연','헤이즈'],[]\n",
    "song = \n",
    "singer ="
   ]
  },
  {
   "cell_type": "code",
   "execution_count": 9,
   "id": "5c9cfe34",
   "metadata": {},
   "outputs": [
    {
     "name": "stdout",
     "output_type": "stream",
     "text": [
      "인덱스 위치 입력 >> 0\n",
      "노래제목입력>>Butter\n",
      "가수입력>>방탄소년단\n",
      "[['Butter', '방탄소년단']]\n"
     ]
    }
   ],
   "source": [
    "index = int(input(\"인덱스 위치 입력 >> \"))\n",
    "song = input(\"노래제목입력>>\")\n",
    "singer = input(\"가수입력>>\")\n",
    "music_list = []\n",
    "music_list.insert(index,[song,singer])\n",
    "print(music_list)"
   ]
  },
  {
   "cell_type": "code",
   "execution_count": 12,
   "id": "4b6f1138",
   "metadata": {},
   "outputs": [
    {
     "data": {
      "text/plain": [
       "[0, 1, 2, 3, 4, 5]"
      ]
     },
     "execution_count": 12,
     "metadata": {},
     "output_type": "execute_result"
    }
   ],
   "source": [
    "list6 = [0,1,2,3,4,5]\n",
    "list6"
   ]
  },
  {
   "cell_type": "code",
   "execution_count": 13,
   "id": "53fb3a33",
   "metadata": {},
   "outputs": [
    {
     "name": "stdout",
     "output_type": "stream",
     "text": [
      "수정 전 : 1\n",
      "수정 후 : 7\n"
     ]
    }
   ],
   "source": [
    "print('수정 전 :' , list6[1])\n",
    "list6[1] = 7\n",
    "print('수정 후 :' , list6[1])"
   ]
  },
  {
   "cell_type": "code",
   "execution_count": 14,
   "id": "5eed578b",
   "metadata": {},
   "outputs": [
    {
     "data": {
      "text/plain": [
       "[0, 7, 2, 3, 4, 5]"
      ]
     },
     "execution_count": 14,
     "metadata": {},
     "output_type": "execute_result"
    }
   ],
   "source": [
    "list6"
   ]
  },
  {
   "cell_type": "code",
   "execution_count": 15,
   "id": "278e7ab4",
   "metadata": {},
   "outputs": [
    {
     "name": "stdout",
     "output_type": "stream",
     "text": [
      "[0, 7, 2, 7, 5]\n"
     ]
    }
   ],
   "source": [
    "list6[3:5] = [7]\n",
    "print(list6)"
   ]
  },
  {
   "cell_type": "code",
   "execution_count": 21,
   "id": "87690c70",
   "metadata": {},
   "outputs": [
    {
     "name": "stdout",
     "output_type": "stream",
     "text": [
      "['h', 'i', 'j', ['a', 'b', 'c'], 3, 'd', 'e', 'f', 'g']\n"
     ]
    }
   ],
   "source": [
    "array = [1,2,3,4,5]\n",
    "array[4] = 7\n",
    "array[1] = ['a','b','c']\n",
    "array[3:] = 'd','e','f','g'\n",
    "array[:1]= ['h','i','j']\n",
    "print(array)"
   ]
  },
  {
   "cell_type": "code",
   "execution_count": 23,
   "id": "c2b32484",
   "metadata": {},
   "outputs": [
    {
     "data": {
      "text/plain": [
       "[0, 2, 3, 4, 5]"
      ]
     },
     "execution_count": 23,
     "metadata": {},
     "output_type": "execute_result"
    }
   ],
   "source": [
    "list7 = [0,1,2,3,4,5]\n",
    "#del 키워드\n",
    "del list7[1]\n",
    "list7"
   ]
  },
  {
   "cell_type": "code",
   "execution_count": 25,
   "id": "3786a332",
   "metadata": {},
   "outputs": [
    {
     "data": {
      "text/plain": [
       "[0]"
      ]
     },
     "execution_count": 25,
     "metadata": {},
     "output_type": "execute_result"
    }
   ],
   "source": [
    "del list7[1:4]\n",
    "list7"
   ]
  },
  {
   "cell_type": "code",
   "execution_count": 28,
   "id": "3c8dce99",
   "metadata": {},
   "outputs": [
    {
     "data": {
      "text/plain": [
       "['a', 'c', 'd', 'e']"
      ]
     },
     "execution_count": 28,
     "metadata": {},
     "output_type": "execute_result"
    }
   ],
   "source": [
    "#remove() 함수 이용해서 값 삭제\n",
    "list7 = ['a','b','c','d','e','b']\n",
    "list7.remove('b')\n",
    "list7\n",
    "list7.remove('b')\n",
    "list7"
   ]
  },
  {
   "cell_type": "code",
   "execution_count": 29,
   "id": "74eefefc",
   "metadata": {},
   "outputs": [
    {
     "data": {
      "text/plain": [
       "[9, 77, 13, 51, 100, 3]"
      ]
     },
     "execution_count": 29,
     "metadata": {},
     "output_type": "execute_result"
    }
   ],
   "source": [
    "#sort() 리스트 목록을 오름차순으로 정렬\n",
    "list8 = [9,77,13,51,100,3]\n",
    "list8"
   ]
  },
  {
   "cell_type": "code",
   "execution_count": 30,
   "id": "84408bab",
   "metadata": {},
   "outputs": [
    {
     "data": {
      "text/plain": [
       "[3, 9, 13, 51, 77, 100]"
      ]
     },
     "execution_count": 30,
     "metadata": {},
     "output_type": "execute_result"
    }
   ],
   "source": [
    "list8.sort()\n",
    "list8"
   ]
  },
  {
   "cell_type": "code",
   "execution_count": 31,
   "id": "cbe2788d",
   "metadata": {},
   "outputs": [
    {
     "data": {
      "text/plain": [
       "[9, 77, 13, 51, 100, 3]"
      ]
     },
     "execution_count": 31,
     "metadata": {},
     "output_type": "execute_result"
    }
   ],
   "source": [
    "#reverse() - 리스트에 있는 값을 역순으로 뒤집음, \n",
    "#원래 True 값이 역순이기 때문에 False를 입력해주면 정방향으로 사용가능!\n",
    "list9 = [9,77,13,51,100,3]\n",
    "list9"
   ]
  },
  {
   "cell_type": "code",
   "execution_count": 33,
   "id": "c9cb7635",
   "metadata": {},
   "outputs": [
    {
     "data": {
      "text/plain": [
       "[9, 77, 13, 51, 100, 3]"
      ]
     },
     "execution_count": 33,
     "metadata": {},
     "output_type": "execute_result"
    }
   ],
   "source": [
    "list9.reverse()\n",
    "list9"
   ]
  },
  {
   "cell_type": "code",
   "execution_count": 34,
   "id": "fba2d14b",
   "metadata": {},
   "outputs": [
    {
     "data": {
      "text/plain": [
       "[100, 77, 51, 13, 9, 3]"
      ]
     },
     "execution_count": 34,
     "metadata": {},
     "output_type": "execute_result"
    }
   ],
   "source": [
    "list9.sort()\n",
    "list9\n",
    "list9.reverse()\n",
    "list9"
   ]
  },
  {
   "cell_type": "code",
   "execution_count": 36,
   "id": "2ef8f2dd",
   "metadata": {},
   "outputs": [
    {
     "data": {
      "text/plain": [
       "[3, 9, 13, 51, 77, 100]"
      ]
     },
     "execution_count": 36,
     "metadata": {},
     "output_type": "execute_result"
    }
   ],
   "source": [
    "list9\n",
    "list9.sort(reverse=False)\n",
    "list9"
   ]
  },
  {
   "cell_type": "code",
   "execution_count": 38,
   "id": "bec7961c",
   "metadata": {},
   "outputs": [
    {
     "data": {
      "text/plain": [
       "2"
      ]
     },
     "execution_count": 38,
     "metadata": {},
     "output_type": "execute_result"
    }
   ],
   "source": [
    "#index() - 찾고자하는 값의 위치를 반환\n",
    "list11 = ['a','b','c','d','e','f','c','c']\n",
    "list11.index('c')"
   ]
  },
  {
   "cell_type": "code",
   "execution_count": 39,
   "id": "243e57c9",
   "metadata": {},
   "outputs": [
    {
     "data": {
      "text/plain": [
       "3"
      ]
     },
     "execution_count": 39,
     "metadata": {},
     "output_type": "execute_result"
    }
   ],
   "source": [
    "#count() - 찾고자하는 값이 몇번 들어있는지 반환\n",
    "list11.count(\"c\")\n"
   ]
  },
  {
   "cell_type": "code",
   "execution_count": 42,
   "id": "8985e8fb",
   "metadata": {},
   "outputs": [
    {
     "data": {
      "text/plain": [
       "['a', 'b', 'c', 'd', 'e']"
      ]
     },
     "execution_count": 42,
     "metadata": {},
     "output_type": "execute_result"
    }
   ],
   "source": [
    "#pop() - 마지막 값을 반환 후 삭제 !\n",
    "list11.pop()\n",
    "list11"
   ]
  },
  {
   "cell_type": "code",
   "execution_count": 44,
   "id": "79e443a6",
   "metadata": {},
   "outputs": [
    {
     "data": {
      "text/plain": [
       "3"
      ]
     },
     "execution_count": 44,
     "metadata": {},
     "output_type": "execute_result"
    }
   ],
   "source": [
    "#len(리스트) - 리스트 값 개수 반환\n",
    "list12 = [0,1,2]\n",
    "len(list12)"
   ]
  },
  {
   "cell_type": "code",
   "execution_count": null,
   "id": "cf7a31df",
   "metadata": {},
   "outputs": [],
   "source": []
  },
  {
   "cell_type": "code",
   "execution_count": null,
   "id": "d8048406",
   "metadata": {},
   "outputs": [],
   "source": []
  },
  {
   "cell_type": "code",
   "execution_count": null,
   "id": "286c5ecc",
   "metadata": {},
   "outputs": [],
   "source": []
  },
  {
   "cell_type": "code",
   "execution_count": null,
   "id": "9a208e90",
   "metadata": {},
   "outputs": [],
   "source": []
  },
  {
   "cell_type": "code",
   "execution_count": null,
   "id": "4b4f0faf",
   "metadata": {},
   "outputs": [],
   "source": []
  },
  {
   "cell_type": "code",
   "execution_count": null,
   "id": "d2db60fc",
   "metadata": {},
   "outputs": [],
   "source": []
  }
 ],
 "metadata": {
  "kernelspec": {
   "display_name": "Python 3 (ipykernel)",
   "language": "python",
   "name": "python3"
  },
  "language_info": {
   "codemirror_mode": {
    "name": "ipython",
    "version": 3
   },
   "file_extension": ".py",
   "mimetype": "text/x-python",
   "name": "python",
   "nbconvert_exporter": "python",
   "pygments_lexer": "ipython3",
   "version": "3.9.7"
  }
 },
 "nbformat": 4,
 "nbformat_minor": 5
}
