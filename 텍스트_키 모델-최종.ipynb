{
 "cells": [
  {
   "cell_type": "markdown",
   "id": "da6ebe89",
   "metadata": {},
   "source": [
    "# 플라스크 임포트  "
   ]
  },
  {
   "cell_type": "code",
   "execution_count": 1,
   "id": "febaccbf",
   "metadata": {},
   "outputs": [
    {
     "name": "stdout",
     "output_type": "stream",
     "text": [
      "Requirement already satisfied: PyMySQL in c:\\users\\smhrd\\anaconda3\\lib\\site-packages (1.0.2)\n"
     ]
    }
   ],
   "source": [
    "!pip install PyMySQL"
   ]
  },
  {
   "cell_type": "code",
   "execution_count": 2,
   "id": "0fe82558",
   "metadata": {},
   "outputs": [],
   "source": [
    "from flask import Flask\n",
    "from flask import redirect, request , jsonify\n",
    "from flask_cors import CORS\n",
    "import pandas as pd\n",
    "import pickle\n",
    "from konlpy.tag import Okt, Kkma\n",
    "okt = Okt()\n",
    "from sklearn.feature_extraction.text import CountVectorizer\n",
    "\n",
    "import numpy as np\n",
    "from tensorflow.keras.preprocessing.sequence import pad_sequences\n",
    "from tensorflow.keras.models import load_model\n",
    "import pymysql"
   ]
  },
  {
   "cell_type": "markdown",
   "id": "c381046b",
   "metadata": {},
   "source": [
    "# PymySQL"
   ]
  },
  {
   "cell_type": "code",
   "execution_count": 3,
   "id": "e6d32177",
   "metadata": {},
   "outputs": [],
   "source": [
    "import pymysql"
   ]
  },
  {
   "cell_type": "code",
   "execution_count": 4,
   "id": "0dee3f8e",
   "metadata": {},
   "outputs": [
    {
     "data": {
      "text/plain": [
       "<pymysql.connections.Connection at 0x1b4697b9af0>"
      ]
     },
     "execution_count": 4,
     "metadata": {},
     "output_type": "execute_result"
    }
   ],
   "source": [
    "db = pymysql.connect(host = 'project-db-stu.ddns.net', port = 3307, user= 'dodam',\n",
    "                    passwd='115', db='dodam', charset='utf8')\n",
    "db"
   ]
  },
  {
   "cell_type": "code",
   "execution_count": 5,
   "id": "2e7a29e2",
   "metadata": {},
   "outputs": [
    {
     "data": {
      "text/plain": [
       "<pymysql.cursors.DictCursor at 0x1b4698003a0>"
      ]
     },
     "execution_count": 5,
     "metadata": {},
     "output_type": "execute_result"
    }
   ],
   "source": [
    "cursor = db.cursor(pymysql.cursors.DictCursor)\n",
    "cursor"
   ]
  },
  {
   "cell_type": "code",
   "execution_count": 6,
   "id": "5ef6e777",
   "metadata": {
    "scrolled": true
   },
   "outputs": [
    {
     "data": {
      "text/plain": [
       "[{'d_seq': 1,\n",
       "  'm_id': 'admin',\n",
       "  'c_seq': 1,\n",
       "  'd_title': '랄랄라 즐거운 스마트 인재 개발원 ',\n",
       "  'd_content': '오늘은 점심은 또 뭐먹을까 ',\n",
       "  'd_msg': '1515 볶음밥은 맛있어 ',\n",
       "  'd_date': datetime.date(2022, 4, 15)},\n",
       " {'d_seq': 2,\n",
       "  'm_id': 'admin',\n",
       "  'c_seq': 1,\n",
       "  'd_title': '랄랄라 오늘도 즐거운 스마트 인재 개발원 ',\n",
       "  'd_content': '오늘은 점심은 짜장이다! ',\n",
       "  'd_msg': '1515 볶음밥은 맛있어 ',\n",
       "  'd_date': datetime.date(2022, 4, 16)},\n",
       " {'d_seq': 3,\n",
       "  'm_id': 'admin',\n",
       "  'c_seq': 1,\n",
       "  'd_title': '랄랄라 매일 즐거운 스마트 인재 개발원 ',\n",
       "  'd_content': '오늘은 점심은 돈가스다! ',\n",
       "  'd_msg': '1515 볶음밥은 맛있어 ',\n",
       "  'd_date': datetime.date(2022, 4, 17)},\n",
       " {'d_seq': 4,\n",
       "  'm_id': 'admin',\n",
       "  'c_seq': 1,\n",
       "  'd_title': '슬픈 토요일 등원 ',\n",
       "  'd_content': '오늘은 점심은 맛있는거 먹어야지 ',\n",
       "  'd_msg': '1515 볶음밥은 맛있어 ',\n",
       "  'd_date': datetime.date(2022, 4, 18)},\n",
       " {'d_seq': 5,\n",
       "  'm_id': 'admin',\n",
       "  'c_seq': 1,\n",
       "  'd_title': '즐거운 야근 너무 즐거워 ',\n",
       "  'd_content': '에너지 드링크가 필요해 ',\n",
       "  'd_msg': '1515 볶음밥은 맛있어 ',\n",
       "  'd_date': datetime.date(2022, 4, 19)},\n",
       " {'d_seq': 6,\n",
       "  'm_id': 'admin',\n",
       "  'c_seq': 1,\n",
       "  'd_title': '우리아들 성준이 태어난날 ',\n",
       "  'd_content': '안녕 성준아!! 생일축하해\\n오늘은 드디어 엄마랑 아빠가 우리 성준이를 보는날이야~\\n우리 성준이가 태어나는날이거든!!\\n\\n우리 성준이는~ 엄마뱃속에서 38주 6일에 태어났어~!\\n2022년 4월 20일 오전 10시 22분, 몸무게는 3.67kg\\n태명은 사월이였어!\\n엄마랑 아빠가 4월에 만나구, 4월달에 결혼을하고, 4월에 우리 성준이가 태어나는 날이여서\\n4월이 엄마 아빠한테는 소중했거든~!\\n\\n성준이가 태어난걸 제일 먼저 본 사람은 아빠야~\\n아빠가 우리 성준이를 봤는데 기분이 좋으면서 묘했대~!\\n엄마는 수술을해서 사진으로만 봤는데 너무 이뻤어♡\\n사랑하는우리아들 성준아~\\n엄마가 너를 이렇게 낳았단다 ㅋㅋ\\n엄마 말 잘 듣는 이쁜 우리 아들이 되렴~♡\\n\\n할머니랑 할아버지랑 외할머니랑 외할아버지가\\n우리 성준이 너무너무 이쁘대\\n우리 성준이는 사랑을 듬뿍 받을꺼야~♡\\n\\n내일은 엄마가 노력해서 걸어서 우리 성준이 보러갈께~~!! 우리 성준이 사랑해\\n좋은 꿈꾸고 잘자 울애기♡\\n열달동안 엄마 뱃속에서 잘 있어주고 건강하게 태어나줘서 너무고마워 우리아들♡ ',\n",
       "  'd_msg': '사랑해~ ',\n",
       "  'd_date': datetime.date(2022, 4, 21)}]"
      ]
     },
     "execution_count": 6,
     "metadata": {},
     "output_type": "execute_result"
    }
   ],
   "source": [
    "sql = \"SELECT * FROM `t_diary`;\"\n",
    "cursor.execute(sql)\n",
    "result = cursor.fetchall()\n",
    "result"
   ]
  },
  {
   "cell_type": "code",
   "execution_count": 7,
   "id": "0c439881",
   "metadata": {},
   "outputs": [],
   "source": [
    "def myTokenizer2(text):\n",
    "    d = pd.DataFrame(okt.pos(text, norm=True, stem=True), columns=['morph','tag'])\n",
    "    d.set_index('tag', inplace=True)\n",
    "    if ('Noun' in d.index) | ('Verb' in d.index) | ('Adjective' in d.index):\n",
    "        labels = ['Noun','Verb','Adjective']\n",
    "        return d.loc[d.index.intersection(labels)].dropna()['morph'].values\n",
    "    else :\n",
    "        return []"
   ]
  },
  {
   "cell_type": "code",
   "execution_count": 8,
   "id": "b99fc295",
   "metadata": {},
   "outputs": [],
   "source": [
    "def height_predict(model, input_height, n=72):\n",
    "    max_len = 72\n",
    "    for _ in range(len(input_height),n):# n번 반복\n",
    "        encoded = pad_sequences(input_height, maxlen=max_len-1, padding='pre',dtype='float32').reshape(71,-1)\n",
    "        result = model.predict([encoded.tolist()],verbose=0)\n",
    "        input_height = np.hstack([input_height,result])\n",
    "    return input_height"
   ]
  },
  {
   "cell_type": "code",
   "execution_count": null,
   "id": "0ec58c92",
   "metadata": {},
   "outputs": [
    {
     "name": "stdout",
     "output_type": "stream",
     "text": [
      " * Serving Flask app \"__main__\" (lazy loading)\n",
      " * Environment: production\n",
      "\u001b[31m   WARNING: This is a development server. Do not use it in a production deployment.\u001b[0m\n",
      "\u001b[2m   Use a production WSGI server instead.\u001b[0m\n",
      " * Debug mode: off\n"
     ]
    },
    {
     "name": "stderr",
     "output_type": "stream",
     "text": [
      " * Running on http://127.0.0.1:7000/ (Press CTRL+C to quit)\n"
     ]
    }
   ],
   "source": [
    "# 수정\n",
    "result = {}\n",
    "app = Flask(__name__)\n",
    "CORS(app)\n",
    "\n",
    "# with open('dodam_model.pkl', 'rb') as f:\n",
    "#     model = pickle.load(f)\n",
    "    \n",
    "@app.route(\"/post2\",  methods=[\"POST\", \"GET\"])\n",
    "\n",
    "    \n",
    "def test():\n",
    "    if (request.method==\"POST\"):\n",
    "       \n",
    "        display(request.form)\n",
    "        m_id=request.form.get('m_id')\n",
    "        c_seq=request.form.get('c_seq')\n",
    "        d_title=request.form.get('d_title')\n",
    "        d_content=request.form.get('d_content')\n",
    "        d_msg=request.form.get('d_msg')\n",
    "        d_date=request.form.get('d_date')\n",
    "        \n",
    "        sql = '''insert into `t_diary` (m_id, c_seq, d_title, d_content, d_msg, d_date) \n",
    "values(%s, %s, %s, %s, %s, %s)'''\n",
    "        cursor.execute(sql , (m_id, c_seq, d_title, d_content, d_msg, d_date))\n",
    "        db.commit()\n",
    "        result = cursor.fetchall()\n",
    "        result\n",
    "        #텍스트마이닝 \n",
    "        result = request.form.get('d_content')\n",
    "        with open('dodam_cv.pkl', 'rb') as f:\n",
    "    # 정의된 모델 선언\n",
    "            cv = pickle.load(f)\n",
    "    # 사용자가 입력한 데이터를 모델이 읽을 수 있는 데이터로 변환\n",
    "            data_review = cv.transform([result])\n",
    "    # 예측 결과를 a에 담는다.\n",
    "            with open('dodam_lr.pkl','rb') as f1:\n",
    "                lr_model = pickle.load(f1)\n",
    "                pre = lr_model.predict_proba(data_review)\n",
    "                feel_list = ['기쁨','분노','불안','슬픔']\n",
    "                result_list = []\n",
    "                for i in range(len(feel_list)):\n",
    "                    result_list.append(pre[0][i])\n",
    "                    print(f\"{feel_list[i]} : {pre[0][i]}\")\n",
    "                e_joy = round((result_list[0]*100),2)\n",
    "                e_joy = e_joy.item()\n",
    "                e_sorrow = round((result_list[3]*100),2)\n",
    "                e_sorrow = e_sorrow.item()\n",
    "                print(e_sorrow)\n",
    "                print(type(e_sorrow))\n",
    "                e_anger = round((result_list[1]*100),2)\n",
    "                e_anger = e_anger.item()\n",
    "                e_unrest = round((result_list[2]*100),2)\n",
    "                e_unrest = e_unrest.item()\n",
    "                sql1 = '''insert into `t_emotion` (m_id, e_joy, e_sorrow, e_anger, e_unrest, d_date) \n",
    "values(%s, %s, %s, %s, %s, %s)'''\n",
    "                cursor.execute(sql1, (m_id, e_joy, e_sorrow, e_anger, e_unrest, d_date))\n",
    "                db.commit()\n",
    "                result1 = cursor.fetchall()\n",
    "                result1\n",
    "                print(pre[0])\n",
    "#         result = test()\n",
    "#         print(result)\n",
    "        result2 = str(\"%.2f%%\"%(pre[0][0]*100)) + \"<br>\" + str(feel_list[1])+\" : \"+str(\"%.2f%%\"%(pre[0][1]*100)) + \"<br>\"+str(feel_list[2])+\" : \"+str(\"%.2f%%\"%(pre[0][2]*100)) + \"<br>\"+str(feel_list[3])+\" : \"+str(\"%.2f%%\"%(pre[0][3]*100))\n",
    "        #return str(feel_list[0])+\" : \"\n",
    "        return redirect(\"http://localhost:8089/dodam/diary.do?result2=\"+result2)\n",
    "    \n",
    "    else:\n",
    "        \n",
    "        return \"NOT FOUND 404\"\n",
    "    \n",
    "#키 예측 모델 \n",
    "@app.route(\"/height\",  methods=[\"POST\", \"GET\"])\n",
    "def test2():\n",
    "    if (request.method==\"POST\"):\n",
    "\n",
    "        model = load_model('Height.h5')   \n",
    "        display(request.form)\n",
    "        input_height = request.form.get('height')\n",
    "        print(input_height)\n",
    "        result = height_predict(model, np.array([[input_height]]))\n",
    "        print(result)\n",
    "        tr = str(float(result[0][71])*100//1/100)\n",
    "        return redirect(\"http://localhost:8089/dodam/note.do?tr=\"+tr)\n",
    "    else:\n",
    "        return \"NOT FOUND 404\"\n",
    "\n",
    "    \n",
    "if __name__ == \"__main__\":\n",
    "    app.run(host = \"127.0.0.1\", port =7000)\n",
    "    # result = test()"
   ]
  },
  {
   "cell_type": "code",
   "execution_count": null,
   "id": "d3bcbb38",
   "metadata": {},
   "outputs": [],
   "source": []
  }
 ],
 "metadata": {
  "kernelspec": {
   "display_name": "Python 3 (ipykernel)",
   "language": "python",
   "name": "python3"
  },
  "language_info": {
   "codemirror_mode": {
    "name": "ipython",
    "version": 3
   },
   "file_extension": ".py",
   "mimetype": "text/x-python",
   "name": "python",
   "nbconvert_exporter": "python",
   "pygments_lexer": "ipython3",
   "version": "3.9.7"
  },
  "toc": {
   "base_numbering": 1,
   "nav_menu": {},
   "number_sections": true,
   "sideBar": true,
   "skip_h1_title": false,
   "title_cell": "Table of Contents",
   "title_sidebar": "Contents",
   "toc_cell": false,
   "toc_position": {},
   "toc_section_display": true,
   "toc_window_display": true
  }
 },
 "nbformat": 4,
 "nbformat_minor": 5
}
